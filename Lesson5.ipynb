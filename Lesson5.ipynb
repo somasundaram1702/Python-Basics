{
  "nbformat": 4,
  "nbformat_minor": 0,
  "metadata": {
    "kernelspec": {
      "display_name": "Python 2",
      "language": "python",
      "name": "python2"
    },
    "language_info": {
      "codemirror_mode": {
        "name": "ipython",
        "version": 2
      },
      "file_extension": ".py",
      "mimetype": "text/x-python",
      "name": "python",
      "nbconvert_exporter": "python",
      "pygments_lexer": "ipython2",
      "version": "2.7.10"
    },
    "colab": {
      "name": "Lesson5.ipynb",
      "provenance": []
    }
  },
  "cells": [
    {
      "cell_type": "markdown",
      "metadata": {
        "id": "DgDmejhWNwfo"
      },
      "source": [
        "##Strings"
      ]
    },
    {
      "cell_type": "markdown",
      "metadata": {
        "id": "IjKK1G8HNwfp"
      },
      "source": [
        "Strings are ordered text based data which are represented by enclosing the same in single/double/triple quotes."
      ]
    },
    {
      "cell_type": "code",
      "metadata": {
        "id": "7z7Qm9PdNwfq"
      },
      "source": [
        "String0 = 'Taj Mahal is beautiful'\n",
        "String1 = \"Taj Mahal is beautiful\"\n",
        "String2 = '''Taj Mahal\n",
        "is\n",
        "beautiful'''"
      ],
      "execution_count": null,
      "outputs": []
    },
    {
      "cell_type": "code",
      "metadata": {
        "id": "ZREfMHQ4Nwfs",
        "outputId": "6552555e-1067-454f-cf3c-ccddaf73545d"
      },
      "source": [
        "print String0 , type(String0)\n",
        "print String1, type(String1)\n",
        "print String2, type(String2)"
      ],
      "execution_count": null,
      "outputs": [
        {
          "output_type": "stream",
          "text": [
            "Taj Mahal is beautiful <type 'str'>\n",
            "Taj Mahal is beautiful <type 'str'>\n",
            "Taj Mahal\n",
            "is\n",
            "beautiful <type 'str'>\n"
          ],
          "name": "stdout"
        }
      ]
    },
    {
      "cell_type": "markdown",
      "metadata": {
        "id": "Xbv2e4sWNwft"
      },
      "source": [
        "String Indexing and Slicing are similar to Lists which was explained in detail earlier."
      ]
    },
    {
      "cell_type": "code",
      "metadata": {
        "id": "xbX6pZGzNwft",
        "outputId": "a51a87ba-562c-4f3d-8d77-3d63a9deda52"
      },
      "source": [
        "print String0[4]\n",
        "print String0[4:]"
      ],
      "execution_count": null,
      "outputs": [
        {
          "output_type": "stream",
          "text": [
            "M\n",
            "Mahal is beautiful\n"
          ],
          "name": "stdout"
        }
      ]
    },
    {
      "cell_type": "markdown",
      "metadata": {
        "id": "_GZ6kCalNwfu"
      },
      "source": [
        "###Built-in Functions"
      ]
    },
    {
      "cell_type": "markdown",
      "metadata": {
        "id": "MhKYTubHNwfu"
      },
      "source": [
        "**find( )** function returns the index value of the given data that is to found in the string. If it is not found it returns **-1**. Remember to not confuse the returned -1 for reverse indexing value."
      ]
    },
    {
      "cell_type": "code",
      "metadata": {
        "id": "AfltYkQWNwfu",
        "outputId": "eeb15a17-74f0-4b9c-d296-2e140ef6409f"
      },
      "source": [
        "print String0.find('al')\n",
        "print String0.find('am')"
      ],
      "execution_count": null,
      "outputs": [
        {
          "output_type": "stream",
          "text": [
            "7\n",
            "-1\n"
          ],
          "name": "stdout"
        }
      ]
    },
    {
      "cell_type": "markdown",
      "metadata": {
        "id": "ltbp5Q_QNwfu"
      },
      "source": [
        "The index value returned is the index of the first element in the input data."
      ]
    },
    {
      "cell_type": "code",
      "metadata": {
        "id": "dnbOCzAmNwfv",
        "outputId": "61c7188b-73d7-4bda-a900-fb2c0af1e362"
      },
      "source": [
        "print String0[7]"
      ],
      "execution_count": null,
      "outputs": [
        {
          "output_type": "stream",
          "text": [
            "a\n"
          ],
          "name": "stdout"
        }
      ]
    },
    {
      "cell_type": "markdown",
      "metadata": {
        "id": "ta-UtdflNwfv"
      },
      "source": [
        "One can also input **find( )** function between which index values it has to search."
      ]
    },
    {
      "cell_type": "code",
      "metadata": {
        "id": "SO7CqgwRNwfv",
        "outputId": "11994ec8-a2cb-4bc5-adcb-0bae5e1108b2"
      },
      "source": [
        "print String0.find('j',1)\n",
        "print String0.find('j',1,3)"
      ],
      "execution_count": null,
      "outputs": [
        {
          "output_type": "stream",
          "text": [
            "2\n",
            "2\n"
          ],
          "name": "stdout"
        }
      ]
    },
    {
      "cell_type": "markdown",
      "metadata": {
        "id": "MifeW0kbNwfv"
      },
      "source": [
        "**capitalize( )** is used to capitalize the first element in the string."
      ]
    },
    {
      "cell_type": "code",
      "metadata": {
        "id": "40ffiG-VNwfv",
        "outputId": "ba3b5b42-e0e3-4297-941d-f67c3ebed861"
      },
      "source": [
        "String3 = 'observe the first letter in this sentence.'\n",
        "print String3.capitalize()"
      ],
      "execution_count": null,
      "outputs": [
        {
          "output_type": "stream",
          "text": [
            "Observe the first letter in this sentence.\n"
          ],
          "name": "stdout"
        }
      ]
    },
    {
      "cell_type": "markdown",
      "metadata": {
        "id": "e_8yxIhhNwfw"
      },
      "source": [
        "**center( )** is used to center align the string by specifying the field width."
      ]
    },
    {
      "cell_type": "code",
      "metadata": {
        "id": "EctIrzM5Nwfw",
        "outputId": "cf0155a4-2485-426c-b7c1-703477d739fe"
      },
      "source": [
        "String0.center(70)"
      ],
      "execution_count": null,
      "outputs": [
        {
          "output_type": "execute_result",
          "data": {
            "text/plain": [
              "'                        Taj Mahal is beautiful                        '"
            ]
          },
          "metadata": {
            "tags": []
          },
          "execution_count": 8
        }
      ]
    },
    {
      "cell_type": "markdown",
      "metadata": {
        "id": "OMgBrRviNwfw"
      },
      "source": [
        "One can also fill the left out spaces with any other character."
      ]
    },
    {
      "cell_type": "code",
      "metadata": {
        "id": "oRJx_KRoNwfw",
        "outputId": "00720816-97eb-4591-fe2e-89ff87526ba7"
      },
      "source": [
        "String0.center(70,'-')"
      ],
      "execution_count": null,
      "outputs": [
        {
          "output_type": "execute_result",
          "data": {
            "text/plain": [
              "'------------------------Taj Mahal is beautiful------------------------'"
            ]
          },
          "metadata": {
            "tags": []
          },
          "execution_count": 9
        }
      ]
    },
    {
      "cell_type": "markdown",
      "metadata": {
        "id": "z9jsJWcZNwfw"
      },
      "source": [
        "**zfill( )** is used for zero padding by specifying the field width."
      ]
    },
    {
      "cell_type": "code",
      "metadata": {
        "id": "j2OOASSANwfx",
        "outputId": "c0af5b5d-49cc-4dc1-f531-c9510bc125bc"
      },
      "source": [
        "String0.zfill(30)"
      ],
      "execution_count": null,
      "outputs": [
        {
          "output_type": "execute_result",
          "data": {
            "text/plain": [
              "'00000000Taj Mahal is beautiful'"
            ]
          },
          "metadata": {
            "tags": []
          },
          "execution_count": 10
        }
      ]
    },
    {
      "cell_type": "markdown",
      "metadata": {
        "id": "9YVVf8LINwfx"
      },
      "source": [
        "**expandtabs( )** allows you to change the spacing of the tab character. '\\t' which is by default set to 8 spaces."
      ]
    },
    {
      "cell_type": "code",
      "metadata": {
        "id": "zwUjcABiNwfx",
        "outputId": "e0fede54-a369-439f-a257-c521739a5f38"
      },
      "source": [
        "s = 'h\\te\\tl\\tl\\to'\n",
        "print s\n",
        "print s.expandtabs(1)\n",
        "print s.expandtabs()"
      ],
      "execution_count": null,
      "outputs": [
        {
          "output_type": "stream",
          "text": [
            "h\te\tl\tl\to\n",
            "h e l l o\n",
            "h       e       l       l       o\n"
          ],
          "name": "stdout"
        }
      ]
    },
    {
      "cell_type": "markdown",
      "metadata": {
        "collapsed": true,
        "id": "sP0J_kXVNwfx"
      },
      "source": [
        "**index( )** works the same way as **find( )** function the only difference is find returns '-1' when the input element is not found in the string but **index( )** function throws a ValueError"
      ]
    },
    {
      "cell_type": "code",
      "metadata": {
        "id": "i3_3vIIPNwfx",
        "outputId": "585e84b4-812f-4ae7-d237-f8fa389e0dcb"
      },
      "source": [
        "print String0.index('Taj')\n",
        "print String0.index('Mahal',0)\n",
        "print String0.index('Mahal',10,20)"
      ],
      "execution_count": null,
      "outputs": [
        {
          "output_type": "stream",
          "text": [
            "0\n",
            "4\n"
          ],
          "name": "stdout"
        },
        {
          "output_type": "error",
          "ename": "ValueError",
          "evalue": "substring not found",
          "traceback": [
            "\u001b[0;31m---------------------------------------------------------------------------\u001b[0m",
            "\u001b[0;31mValueError\u001b[0m                                Traceback (most recent call last)",
            "\u001b[0;32m<ipython-input-12-6062e7a32deb>\u001b[0m in \u001b[0;36m<module>\u001b[0;34m()\u001b[0m\n\u001b[1;32m      1\u001b[0m \u001b[0;32mprint\u001b[0m \u001b[0mString0\u001b[0m\u001b[0;34m.\u001b[0m\u001b[0mindex\u001b[0m\u001b[0;34m(\u001b[0m\u001b[0;34m'Taj'\u001b[0m\u001b[0;34m)\u001b[0m\u001b[0;34m\u001b[0m\u001b[0m\n\u001b[1;32m      2\u001b[0m \u001b[0;32mprint\u001b[0m \u001b[0mString0\u001b[0m\u001b[0;34m.\u001b[0m\u001b[0mindex\u001b[0m\u001b[0;34m(\u001b[0m\u001b[0;34m'Mahal'\u001b[0m\u001b[0;34m,\u001b[0m\u001b[0;36m0\u001b[0m\u001b[0;34m)\u001b[0m\u001b[0;34m\u001b[0m\u001b[0m\n\u001b[0;32m----> 3\u001b[0;31m \u001b[0;32mprint\u001b[0m \u001b[0mString0\u001b[0m\u001b[0;34m.\u001b[0m\u001b[0mindex\u001b[0m\u001b[0;34m(\u001b[0m\u001b[0;34m'Mahal'\u001b[0m\u001b[0;34m,\u001b[0m\u001b[0;36m10\u001b[0m\u001b[0;34m,\u001b[0m\u001b[0;36m20\u001b[0m\u001b[0;34m)\u001b[0m\u001b[0;34m\u001b[0m\u001b[0m\n\u001b[0m",
            "\u001b[0;31mValueError\u001b[0m: substring not found"
          ]
        }
      ]
    },
    {
      "cell_type": "markdown",
      "metadata": {
        "collapsed": false,
        "id": "_B7ERgQGNwfy"
      },
      "source": [
        "**endswith( )** function is used to check if the given string ends with the particular char which is given as input."
      ]
    },
    {
      "cell_type": "code",
      "metadata": {
        "id": "2dNibOvtNwfy",
        "outputId": "6d70104d-46c2-41b8-d7ab-71490554266f"
      },
      "source": [
        "print String0.endswith('y')"
      ],
      "execution_count": null,
      "outputs": [
        {
          "output_type": "stream",
          "text": [
            "False\n"
          ],
          "name": "stdout"
        }
      ]
    },
    {
      "cell_type": "markdown",
      "metadata": {
        "id": "sx9-2GUsNwfy"
      },
      "source": [
        "The start and stop index values can also be specified."
      ]
    },
    {
      "cell_type": "code",
      "metadata": {
        "id": "Iom2zw5mNwfy",
        "outputId": "c3a44de3-3e3f-45c6-bf82-dd1c6897311d"
      },
      "source": [
        "print String0.endswith('l',0)\n",
        "print String0.endswith('M',0,5)"
      ],
      "execution_count": null,
      "outputs": [
        {
          "output_type": "stream",
          "text": [
            "True\n",
            "True\n"
          ],
          "name": "stdout"
        }
      ]
    },
    {
      "cell_type": "markdown",
      "metadata": {
        "id": "XAlpdVfeNwfz"
      },
      "source": [
        "**count( )** function counts the number of char in the given string. The start and the stop index can also be specified or left blank. (These are Implicit arguments which will be dealt in functions)"
      ]
    },
    {
      "cell_type": "code",
      "metadata": {
        "id": "gBjDZC4eNwfz",
        "outputId": "1e76a8e6-0e73-4b84-e510-cdb8a968185a"
      },
      "source": [
        "print String0.count('a',0)\n",
        "print String0.count('a',5,10)"
      ],
      "execution_count": null,
      "outputs": [
        {
          "output_type": "stream",
          "text": [
            "4\n",
            "2\n"
          ],
          "name": "stdout"
        }
      ]
    },
    {
      "cell_type": "markdown",
      "metadata": {
        "collapsed": false,
        "id": "XHvUatlINwfz"
      },
      "source": [
        "**join( )** function is used add a char in between the elements of the input string."
      ]
    },
    {
      "cell_type": "code",
      "metadata": {
        "id": "Hq3hP1NuNwfz",
        "outputId": "50eecb32-fa24-41b5-f941-4c3f193af29b"
      },
      "source": [
        "'a'.join('*_-')"
      ],
      "execution_count": null,
      "outputs": [
        {
          "output_type": "execute_result",
          "data": {
            "text/plain": [
              "'*a_a-'"
            ]
          },
          "metadata": {
            "tags": []
          },
          "execution_count": 16
        }
      ]
    },
    {
      "cell_type": "markdown",
      "metadata": {
        "id": "KfXroP36Nwf0"
      },
      "source": [
        "'*_-' is the input string and char 'a' is added in between each element"
      ]
    },
    {
      "cell_type": "markdown",
      "metadata": {
        "id": "lsd5T2PoNwf0"
      },
      "source": [
        "**join( )** function can also be used to convert a list into a string."
      ]
    },
    {
      "cell_type": "code",
      "metadata": {
        "id": "HGe-Y7wpNwf0",
        "outputId": "8d6c7735-54cd-4577-dbe8-807facbb82e4"
      },
      "source": [
        "a = list(String0)\n",
        "print a\n",
        "b = ''.join(a)\n",
        "print b"
      ],
      "execution_count": null,
      "outputs": [
        {
          "output_type": "stream",
          "text": [
            "['T', 'a', 'j', ' ', 'M', 'a', 'h', 'a', 'l', ' ', 'i', 's', ' ', 'b', 'e', 'a', 'u', 't', 'i', 'f', 'u', 'l']\n",
            "Taj Mahal is beautiful\n"
          ],
          "name": "stdout"
        }
      ]
    },
    {
      "cell_type": "markdown",
      "metadata": {
        "id": "uoG1ViQ3Nwf0"
      },
      "source": [
        "Before converting it into a string **join( )** function can be used to insert any char in between the list elements."
      ]
    },
    {
      "cell_type": "code",
      "metadata": {
        "id": "HrAVg09mNwf0",
        "outputId": "4a2af4c8-56e7-4a88-a739-410daa96f57a"
      },
      "source": [
        "c = '/'.join(a)[18:]\n",
        "print c"
      ],
      "execution_count": null,
      "outputs": [
        {
          "output_type": "stream",
          "text": [
            " /i/s/ /b/e/a/u/t/i/f/u/l\n"
          ],
          "name": "stdout"
        }
      ]
    },
    {
      "cell_type": "markdown",
      "metadata": {
        "collapsed": false,
        "id": "B7yncJFmNwf0"
      },
      "source": [
        "**split( )** function is used to convert a string back to a list. Think of it as the opposite of the **join()** function."
      ]
    },
    {
      "cell_type": "code",
      "metadata": {
        "id": "g27hv5PPNwf0",
        "outputId": "39e3d133-6fe6-4516-f566-edb9d167065e"
      },
      "source": [
        "d = c.split('/')\n",
        "print d"
      ],
      "execution_count": null,
      "outputs": [
        {
          "output_type": "stream",
          "text": [
            "[' ', 'i', 's', ' ', 'b', 'e', 'a', 'u', 't', 'i', 'f', 'u', 'l']\n"
          ],
          "name": "stdout"
        }
      ]
    },
    {
      "cell_type": "markdown",
      "metadata": {
        "id": "95aqVQdiNwf1"
      },
      "source": [
        "In **split( )** function one can also specify the number of times you want to split the string or the number of elements the new returned list should conatin. The number of elements is always one more than the specified number this is because it is split the number of times specified."
      ]
    },
    {
      "cell_type": "code",
      "metadata": {
        "id": "GRajpKALNwf1",
        "outputId": "86c0f8a3-8dab-4ad5-ead8-4c5107b5db4d"
      },
      "source": [
        "e = c.split('/',3)\n",
        "print e\n",
        "print len(e)"
      ],
      "execution_count": null,
      "outputs": [
        {
          "output_type": "stream",
          "text": [
            "[' ', 'i', 's', ' /b/e/a/u/t/i/f/u/l']\n",
            "4\n"
          ],
          "name": "stdout"
        }
      ]
    },
    {
      "cell_type": "markdown",
      "metadata": {
        "id": "0mfiT0NjNwf1"
      },
      "source": [
        "**lower( )** converts any capital letter to small letter."
      ]
    },
    {
      "cell_type": "code",
      "metadata": {
        "id": "WSdMxBC-Nwf1",
        "outputId": "48ea569c-29de-4df1-a06a-ac1ed1313927"
      },
      "source": [
        "print String0\n",
        "print String0.lower()"
      ],
      "execution_count": null,
      "outputs": [
        {
          "output_type": "stream",
          "text": [
            "Taj Mahal is beautiful\n",
            "taj mahal is beautiful\n"
          ],
          "name": "stdout"
        }
      ]
    },
    {
      "cell_type": "markdown",
      "metadata": {
        "id": "eK-u_cc9Nwf1"
      },
      "source": [
        "**upper( )** converts any small letter to capital letter."
      ]
    },
    {
      "cell_type": "code",
      "metadata": {
        "id": "UP_to_u5Nwf1",
        "outputId": "1924780c-650e-4c36-b263-434df1660bb8"
      },
      "source": [
        "String0.upper()"
      ],
      "execution_count": null,
      "outputs": [
        {
          "output_type": "execute_result",
          "data": {
            "text/plain": [
              "'TAJ MAHAL IS BEAUTIFUL'"
            ]
          },
          "metadata": {
            "tags": []
          },
          "execution_count": 22
        }
      ]
    },
    {
      "cell_type": "markdown",
      "metadata": {
        "id": "-A5NttTCNwf2"
      },
      "source": [
        "**replace( )** function replaces the element with another element."
      ]
    },
    {
      "cell_type": "code",
      "metadata": {
        "id": "NWIL-UR-Nwf2",
        "outputId": "70fce179-f021-4bac-ea23-154fa5c721d1"
      },
      "source": [
        "String0.replace('Taj Mahal','Bengaluru')"
      ],
      "execution_count": null,
      "outputs": [
        {
          "output_type": "execute_result",
          "data": {
            "text/plain": [
              "'Bengaluru is beautiful'"
            ]
          },
          "metadata": {
            "tags": []
          },
          "execution_count": 23
        }
      ]
    },
    {
      "cell_type": "markdown",
      "metadata": {
        "id": "OX8GGlqHNwf2"
      },
      "source": [
        "**strip( )** function is used to delete elements from the right end and the left end which is not required."
      ]
    },
    {
      "cell_type": "code",
      "metadata": {
        "collapsed": true,
        "id": "6-k-ZTZSNwf2"
      },
      "source": [
        "f = '    hello      '"
      ],
      "execution_count": null,
      "outputs": []
    },
    {
      "cell_type": "markdown",
      "metadata": {
        "id": "FSy6D3UcNwf2"
      },
      "source": [
        "If no char is specified then it will delete all the spaces that is present in the right and left hand side of the data."
      ]
    },
    {
      "cell_type": "code",
      "metadata": {
        "id": "N6xABVK2Nwf2",
        "outputId": "5eb07bf5-28bc-49b4-97c6-97341b938f5b"
      },
      "source": [
        "f.strip()"
      ],
      "execution_count": null,
      "outputs": [
        {
          "output_type": "execute_result",
          "data": {
            "text/plain": [
              "'hello'"
            ]
          },
          "metadata": {
            "tags": []
          },
          "execution_count": 25
        }
      ]
    },
    {
      "cell_type": "markdown",
      "metadata": {
        "id": "AabjPO07Nwf3"
      },
      "source": [
        "**strip( )** function, when a char is specified then it deletes that char if it is present in the two ends of the specified string."
      ]
    },
    {
      "cell_type": "code",
      "metadata": {
        "collapsed": true,
        "id": "190HseA-Nwf3"
      },
      "source": [
        "f = '   ***----hello---*******     '"
      ],
      "execution_count": null,
      "outputs": []
    },
    {
      "cell_type": "code",
      "metadata": {
        "id": "QOQtJuDQNwf3",
        "outputId": "3c675e67-f654-45fc-ce7e-66a273753b2e"
      },
      "source": [
        "f.strip('*')"
      ],
      "execution_count": null,
      "outputs": [
        {
          "output_type": "execute_result",
          "data": {
            "text/plain": [
              "'   ***----hello---*******     '"
            ]
          },
          "metadata": {
            "tags": []
          },
          "execution_count": 27
        }
      ]
    },
    {
      "cell_type": "markdown",
      "metadata": {
        "id": "GkJ9C76zNwf3"
      },
      "source": [
        "The asterisk had to be deleted but is not. This is because there is a space in both the right and left hand side. So in strip function. The characters need to be inputted in the specific order in which they are present."
      ]
    },
    {
      "cell_type": "code",
      "metadata": {
        "id": "mfAlfRKxNwf3",
        "outputId": "32a98f6d-cc89-4fb3-ff22-ddc124978e22"
      },
      "source": [
        "print f.strip(' *')\n",
        "print f.strip(' *-')"
      ],
      "execution_count": null,
      "outputs": [
        {
          "output_type": "stream",
          "text": [
            "----hello---\n",
            "hello\n"
          ],
          "name": "stdout"
        }
      ]
    },
    {
      "cell_type": "markdown",
      "metadata": {
        "collapsed": false,
        "id": "9Zu7rAm2Nwf3"
      },
      "source": [
        "**lstrip( )** and **rstrip( )** function have the same functionality as strip function but the only difference is **lstrip( )** deletes only towards the left side and **rstrip( )** towards the right."
      ]
    },
    {
      "cell_type": "code",
      "metadata": {
        "id": "yQwxBb_rNwf4",
        "outputId": "d8e0f6a0-14f3-429a-877a-57771d021189"
      },
      "source": [
        "print f.lstrip(' *')\n",
        "print f.rstrip(' *')"
      ],
      "execution_count": null,
      "outputs": [
        {
          "output_type": "stream",
          "text": [
            "----hello---*******     \n",
            "   ***----hello---\n"
          ],
          "name": "stdout"
        }
      ]
    },
    {
      "cell_type": "markdown",
      "metadata": {
        "id": "QQlVQHubNwf4"
      },
      "source": [
        "##Dictionaries"
      ]
    },
    {
      "cell_type": "markdown",
      "metadata": {
        "id": "OhxuqwLvNwf4"
      },
      "source": [
        "Dictionaries are more used like a database because here you can index a particular sequence with your user defined string."
      ]
    },
    {
      "cell_type": "markdown",
      "metadata": {
        "id": "aa18ORm9Nwf4"
      },
      "source": [
        "To define a dictionary, equate a variable to { } or dict()"
      ]
    },
    {
      "cell_type": "code",
      "metadata": {
        "id": "kLItXerGNwf5",
        "outputId": "39f2e986-2edb-4ee3-b2d9-4f2f6c4b2f24"
      },
      "source": [
        "d0 = {}\n",
        "d1 = dict()\n",
        "print type(d0), type(d1)"
      ],
      "execution_count": null,
      "outputs": [
        {
          "output_type": "stream",
          "text": [
            "<type 'dict'> <type 'dict'>\n"
          ],
          "name": "stdout"
        }
      ]
    },
    {
      "cell_type": "markdown",
      "metadata": {
        "id": "7x1OrgcONwf5"
      },
      "source": [
        "Dictionary works somewhat like a list but with an added capability of assigning it's own index style."
      ]
    },
    {
      "cell_type": "code",
      "metadata": {
        "id": "ioNM6nUUNwf5",
        "outputId": "07b544e7-67cf-4b42-eebd-bfd005c5e5ae"
      },
      "source": [
        "d0['One'] = 1\n",
        "d0['OneTwo'] = 12 \n",
        "print d0"
      ],
      "execution_count": null,
      "outputs": [
        {
          "output_type": "stream",
          "text": [
            "{'OneTwo': 12, 'One': 1}\n"
          ],
          "name": "stdout"
        }
      ]
    },
    {
      "cell_type": "markdown",
      "metadata": {
        "id": "ICu8BVMgNwf5"
      },
      "source": [
        "That is how a dictionary looks like. Now you are able to access '1' by the index value set at 'One'"
      ]
    },
    {
      "cell_type": "code",
      "metadata": {
        "id": "_APcRHcZNwf5",
        "outputId": "fb0b625b-ef41-458f-b747-0d574f4057e7"
      },
      "source": [
        "print d0['One']"
      ],
      "execution_count": null,
      "outputs": [
        {
          "output_type": "stream",
          "text": [
            "1\n"
          ],
          "name": "stdout"
        }
      ]
    },
    {
      "cell_type": "markdown",
      "metadata": {
        "id": "aDgZbgtNNwf5"
      },
      "source": [
        "Two lists which are related can be merged to form a dictionary."
      ]
    },
    {
      "cell_type": "code",
      "metadata": {
        "id": "JS38UxHfNwf6"
      },
      "source": [
        "names = ['One', 'Two', 'Three', 'Four', 'Five']\n",
        "numbers = [1, 2, 3, 4, 5]"
      ],
      "execution_count": null,
      "outputs": []
    },
    {
      "cell_type": "markdown",
      "metadata": {
        "id": "-V4HPFkRNwf6"
      },
      "source": [
        "**zip( )** function is used to combine two lists"
      ]
    },
    {
      "cell_type": "code",
      "metadata": {
        "id": "Jx2bhwJcNwf6",
        "outputId": "c5845100-9221-465d-b072-c46c93e6779e"
      },
      "source": [
        "d2 = zip(names,numbers)\n",
        "print d2"
      ],
      "execution_count": null,
      "outputs": [
        {
          "output_type": "stream",
          "text": [
            "[('One', 1), ('Two', 2), ('Three', 3), ('Four', 4), ('Five', 5)]\n"
          ],
          "name": "stdout"
        }
      ]
    },
    {
      "cell_type": "markdown",
      "metadata": {
        "collapsed": false,
        "id": "ce6-6-l1Nwf6"
      },
      "source": [
        "The two lists are combined to form a single list and each elements are clubbed with their respective elements from the other list inside a tuple. Tuples because that is what is assigned and the value should not change.\n",
        "\n",
        "Further, To convert the above into a dictionary. **dict( )** function is used."
      ]
    },
    {
      "cell_type": "code",
      "metadata": {
        "id": "mTzuIOwYNwf6",
        "outputId": "316ba6b0-bda2-454b-da2e-67aeefe3a17c"
      },
      "source": [
        "a1 = dict(d2)\n",
        "print a1"
      ],
      "execution_count": null,
      "outputs": [
        {
          "output_type": "stream",
          "text": [
            "{'Four': 4, 'Five': 5, 'Three': 3, 'Two': 2, 'One': 1}\n"
          ],
          "name": "stdout"
        }
      ]
    },
    {
      "cell_type": "markdown",
      "metadata": {
        "id": "QRXJj2RTNwf9"
      },
      "source": [
        "###Built-in Functions"
      ]
    },
    {
      "cell_type": "markdown",
      "metadata": {
        "id": "INTNqFyzNwf9"
      },
      "source": [
        "**clear( )** function is used to erase the entire database that was created."
      ]
    },
    {
      "cell_type": "code",
      "metadata": {
        "id": "vCMU64jfNwf-",
        "outputId": "099d1658-9b86-4273-eba7-fd6d4ea11a6c"
      },
      "source": [
        "a1.clear()\n",
        "print a1"
      ],
      "execution_count": null,
      "outputs": [
        {
          "output_type": "stream",
          "text": [
            "{}\n"
          ],
          "name": "stdout"
        }
      ]
    },
    {
      "cell_type": "markdown",
      "metadata": {
        "id": "ngBjT1BuNwf-"
      },
      "source": [
        "Dictionary can also be built using loops."
      ]
    },
    {
      "cell_type": "code",
      "metadata": {
        "id": "KxrJZ9Z-Nwf-",
        "outputId": "b83dc115-b1e6-4784-d312-d3eb2d18a7eb"
      },
      "source": [
        "for i in range(len(names)):\n",
        "    a1[names[i]] = numbers[i]\n",
        "print a1"
      ],
      "execution_count": null,
      "outputs": [
        {
          "output_type": "stream",
          "text": [
            "{'Four': 4, 'Five': 5, 'Three': 3, 'Two': 2, 'One': 1}\n"
          ],
          "name": "stdout"
        }
      ]
    },
    {
      "cell_type": "markdown",
      "metadata": {
        "id": "ZbJIHQPUNwf-"
      },
      "source": [
        "**values( )** function returns a list with all the assigned values in the dictionary."
      ]
    },
    {
      "cell_type": "code",
      "metadata": {
        "id": "8VYT-XDsNwf-",
        "outputId": "f2e54128-dba8-4d85-9afc-075dddc5a6f4"
      },
      "source": [
        "a1.values()"
      ],
      "execution_count": null,
      "outputs": [
        {
          "output_type": "execute_result",
          "data": {
            "text/plain": [
              "[4, 5, 3, 2, 1]"
            ]
          },
          "metadata": {
            "tags": []
          },
          "execution_count": 38
        }
      ]
    },
    {
      "cell_type": "markdown",
      "metadata": {
        "id": "5nZ-U-PxNwf-"
      },
      "source": [
        "**keys( )** function returns all the index or the keys to which contains the values that it was assigned to."
      ]
    },
    {
      "cell_type": "code",
      "metadata": {
        "id": "w9gJ8CzXNwf_",
        "outputId": "cdc01f9d-707c-4f07-a65f-b295e1faf004"
      },
      "source": [
        "a1.keys()"
      ],
      "execution_count": null,
      "outputs": [
        {
          "output_type": "execute_result",
          "data": {
            "text/plain": [
              "['Four', 'Five', 'Three', 'Two', 'One']"
            ]
          },
          "metadata": {
            "tags": []
          },
          "execution_count": 39
        }
      ]
    },
    {
      "cell_type": "markdown",
      "metadata": {
        "id": "OqqKcgLQNwf_"
      },
      "source": [
        "**items( )** is returns a list containing both the list but each element in the dictionary is inside a tuple. This is same as the result that was obtained when zip function was used."
      ]
    },
    {
      "cell_type": "code",
      "metadata": {
        "id": "kJISxvJlNwf_",
        "outputId": "92e06a57-0ce6-44f8-e614-f7952a1149d8"
      },
      "source": [
        "a1.items()"
      ],
      "execution_count": null,
      "outputs": [
        {
          "output_type": "execute_result",
          "data": {
            "text/plain": [
              "[('Four', 4), ('Five', 5), ('Three', 3), ('Two', 2), ('One', 1)]"
            ]
          },
          "metadata": {
            "tags": []
          },
          "execution_count": 40
        }
      ]
    },
    {
      "cell_type": "markdown",
      "metadata": {
        "id": "PYDE4-zWNwf_"
      },
      "source": [
        "**pop( )** function is used to get the remove that particular element and this removed element can be assigned to a new variable. But remember only the value is stored and not the key. Because the is just a index value."
      ]
    },
    {
      "cell_type": "code",
      "metadata": {
        "id": "A7DHSd1YNwf_",
        "outputId": "229b208c-8ca1-4c23-a816-b34e80998cbe"
      },
      "source": [
        "a2 = a1.pop('Four')\n",
        "print a1\n",
        "print a2"
      ],
      "execution_count": null,
      "outputs": [
        {
          "output_type": "stream",
          "text": [
            "{'Five': 5, 'Three': 3, 'Two': 2, 'One': 1}\n",
            "4\n"
          ],
          "name": "stdout"
        }
      ]
    }
  ]
}