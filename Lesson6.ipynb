{
  "nbformat": 4,
  "nbformat_minor": 0,
  "metadata": {
    "kernelspec": {
      "display_name": "Python 2",
      "language": "python",
      "name": "python2"
    },
    "language_info": {
      "codemirror_mode": {
        "name": "ipython",
        "version": 2
      },
      "file_extension": ".py",
      "mimetype": "text/x-python",
      "name": "python",
      "nbconvert_exporter": "python",
      "pygments_lexer": "ipython2",
      "version": "2.7.10"
    },
    "colab": {
      "name": "Lesson6.ipynb",
      "provenance": []
    }
  },
  "cells": [
    {
      "cell_type": "markdown",
      "metadata": {
        "id": "_LkHEHD9OWy0"
      },
      "source": [
        "#Control Flow Statements"
      ]
    },
    {
      "cell_type": "markdown",
      "metadata": {
        "id": "9KmHDPRZOWy1"
      },
      "source": [
        "##If"
      ]
    },
    {
      "cell_type": "markdown",
      "metadata": {
        "id": "ZVKqiSr3OWy1"
      },
      "source": [
        "if some_condition:\n",
        "    \n",
        "    algorithm"
      ]
    },
    {
      "cell_type": "code",
      "metadata": {
        "id": "HttFXctMOWy2",
        "outputId": "6962e820-733d-44a2-d232-0a2e57471544"
      },
      "source": [
        "x = 12\n",
        "if x >10:\n",
        "    print \"Hello\""
      ],
      "execution_count": null,
      "outputs": [
        {
          "output_type": "stream",
          "text": [
            "Hello\n"
          ],
          "name": "stdout"
        }
      ]
    },
    {
      "cell_type": "markdown",
      "metadata": {
        "id": "H9zy4XGOOWy3"
      },
      "source": [
        "##If-else"
      ]
    },
    {
      "cell_type": "markdown",
      "metadata": {
        "id": "jDD9i_z0OWy4"
      },
      "source": [
        "if some_condition:\n",
        "    \n",
        "    algorithm\n",
        "    \n",
        "else:\n",
        "    \n",
        "    algorithm"
      ]
    },
    {
      "cell_type": "code",
      "metadata": {
        "id": "TrDa4yETOWy4",
        "outputId": "845efa05-d139-4d29-8328-b908fe35647e"
      },
      "source": [
        "x = 12\n",
        "if x > 10:\n",
        "    print \"hello\"\n",
        "else:\n",
        "    print \"world\""
      ],
      "execution_count": null,
      "outputs": [
        {
          "output_type": "stream",
          "text": [
            "hello\n"
          ],
          "name": "stdout"
        }
      ]
    },
    {
      "cell_type": "markdown",
      "metadata": {
        "id": "OWOZjMRROWy5"
      },
      "source": [
        "##if-elif"
      ]
    },
    {
      "cell_type": "markdown",
      "metadata": {
        "collapsed": false,
        "id": "g5Wpl8N-OWy5"
      },
      "source": [
        "if some_condition:\n",
        "    \n",
        "    algorithm\n",
        "\n",
        "elif some_condition:\n",
        "    \n",
        "    algorithm\n",
        "\n",
        "else:\n",
        "    \n",
        "    algorithm"
      ]
    },
    {
      "cell_type": "code",
      "metadata": {
        "id": "rPZkI8LOOWy6",
        "outputId": "495249a0-e20d-4fcb-d804-a48e8f317323"
      },
      "source": [
        "x = 10\n",
        "y = 12\n",
        "if x > y:\n",
        "    print \"x>y\"\n",
        "elif x < y:\n",
        "    print \"x<y\"\n",
        "else:\n",
        "    print \"x=y\""
      ],
      "execution_count": null,
      "outputs": [
        {
          "output_type": "stream",
          "text": [
            "x<y\n"
          ],
          "name": "stdout"
        }
      ]
    },
    {
      "cell_type": "markdown",
      "metadata": {
        "id": "dUbboyT8OWy6"
      },
      "source": [
        "if statement inside a if statement or if-elif or if-else are called as nested if statements."
      ]
    },
    {
      "cell_type": "code",
      "metadata": {
        "id": "flCr6L0POWy7",
        "outputId": "c4dfe984-07fb-4316-f0f3-f982d09f31e0"
      },
      "source": [
        "x = 10\n",
        "y = 12\n",
        "if x > y:\n",
        "    print \"x>y\"\n",
        "elif x < y:\n",
        "    print \"x<y\"\n",
        "    if x==10:\n",
        "        print \"x=10\"\n",
        "    else:\n",
        "        print \"invalid\"\n",
        "else:\n",
        "    print \"x=y\""
      ],
      "execution_count": null,
      "outputs": [
        {
          "output_type": "stream",
          "text": [
            "x<y\n",
            "x=10\n"
          ],
          "name": "stdout"
        }
      ]
    },
    {
      "cell_type": "markdown",
      "metadata": {
        "id": "EUJsu990OWy7"
      },
      "source": [
        "##Loops"
      ]
    },
    {
      "cell_type": "markdown",
      "metadata": {
        "id": "qf0xc65zOWy8"
      },
      "source": [
        "###For"
      ]
    },
    {
      "cell_type": "markdown",
      "metadata": {
        "collapsed": false,
        "id": "UTSmqfBzOWy8"
      },
      "source": [
        "for variable in something:\n",
        "    \n",
        "    algorithm"
      ]
    },
    {
      "cell_type": "code",
      "metadata": {
        "colab": {
          "base_uri": "https://localhost:8080/"
        },
        "id": "2rnSBPnGOWy8",
        "outputId": "2af6fed5-a708-4886-84b7-51d1a583bd63"
      },
      "source": [
        "for i in range(5):\n",
        "    print i"
      ],
      "execution_count": 1,
      "outputs": [
        {
          "output_type": "stream",
          "text": [
            "0\n",
            "1\n",
            "2\n",
            "3\n",
            "4\n"
          ],
          "name": "stdout"
        }
      ]
    },
    {
      "cell_type": "markdown",
      "metadata": {
        "id": "PODNO_lpOWy9"
      },
      "source": [
        "In the above example, i iterates over the 0,1,2,3,4. Every time it takes each value and executes the algorithm inside the loop. It is also possible to iterate over a nested list illustrated below."
      ]
    },
    {
      "cell_type": "code",
      "metadata": {
        "colab": {
          "base_uri": "https://localhost:8080/"
        },
        "id": "nfIKL37COWy9",
        "outputId": "b6080b37-b78f-457b-d977-137242a59f96"
      },
      "source": [
        "list_of_lists = [[1, 2, 3], [4, 5, 6], [7, 8, 9]]\n",
        "for list1 in list_of_lists:\n",
        "        print list1"
      ],
      "execution_count": 2,
      "outputs": [
        {
          "output_type": "stream",
          "text": [
            "[1, 2, 3]\n",
            "[4, 5, 6]\n",
            "[7, 8, 9]\n"
          ],
          "name": "stdout"
        }
      ]
    },
    {
      "cell_type": "markdown",
      "metadata": {
        "id": "fZzTdtatOWy9"
      },
      "source": [
        "A use case of a nested for loop in this case would be,"
      ]
    },
    {
      "cell_type": "code",
      "metadata": {
        "colab": {
          "base_uri": "https://localhost:8080/"
        },
        "id": "WS63hE1ZOWy-",
        "outputId": "ee95b1b2-decb-4362-a842-0cfbc6dd346a"
      },
      "source": [
        "list_of_lists = [[1, 2, 3], [4, 5, 6], [7, 8, 9]]\n",
        "for list1 in list_of_lists:\n",
        "    for x in list1:\n",
        "        print x"
      ],
      "execution_count": 3,
      "outputs": [
        {
          "output_type": "stream",
          "text": [
            "1\n",
            "2\n",
            "3\n",
            "4\n",
            "5\n",
            "6\n",
            "7\n",
            "8\n",
            "9\n"
          ],
          "name": "stdout"
        }
      ]
    },
    {
      "cell_type": "markdown",
      "metadata": {
        "id": "DlL5tNFgOWy-"
      },
      "source": [
        "###While"
      ]
    },
    {
      "cell_type": "markdown",
      "metadata": {
        "collapsed": false,
        "id": "XLo4OLpCOWy-"
      },
      "source": [
        "while some_condition:\n",
        "    \n",
        "    algorithm"
      ]
    },
    {
      "cell_type": "code",
      "metadata": {
        "colab": {
          "base_uri": "https://localhost:8080/"
        },
        "id": "x0KBfIAXOWy_",
        "outputId": "e48bd07d-68e0-4d7d-8151-1846377a105e"
      },
      "source": [
        "i = 1\n",
        "while i < 3:\n",
        "    print(i ** 2)\n",
        "    i = i+1\n",
        "print('Bye')"
      ],
      "execution_count": 4,
      "outputs": [
        {
          "output_type": "stream",
          "text": [
            "1\n",
            "4\n",
            "Bye\n"
          ],
          "name": "stdout"
        }
      ]
    },
    {
      "cell_type": "markdown",
      "metadata": {
        "id": "IAw5sEitOWy_"
      },
      "source": [
        "##Break"
      ]
    },
    {
      "cell_type": "markdown",
      "metadata": {
        "id": "ZNZJLXzSOWy_"
      },
      "source": [
        "As the name says. It is used to break out of a loop when a condition becomes true when executing the loop."
      ]
    },
    {
      "cell_type": "code",
      "metadata": {
        "id": "wTm0qGmuOWzA",
        "outputId": "cdd21a95-7d4d-42d6-d354-76eff40c78d6"
      },
      "source": [
        "for i in range(100):\n",
        "    print i\n",
        "    if i>=7:\n",
        "        break"
      ],
      "execution_count": null,
      "outputs": [
        {
          "output_type": "stream",
          "text": [
            "0\n",
            "1\n",
            "2\n",
            "3\n",
            "4\n",
            "5\n",
            "6\n",
            "7\n"
          ],
          "name": "stdout"
        }
      ]
    },
    {
      "cell_type": "markdown",
      "metadata": {
        "id": "WdWIESg-OWzB"
      },
      "source": [
        "##Continue"
      ]
    },
    {
      "cell_type": "markdown",
      "metadata": {
        "id": "8GaHfiEnOWzB"
      },
      "source": [
        "This continues the rest of the loop. Sometimes when a condition is satisfied there are chances of the loop getting terminated. This can be avoided using continue statement. "
      ]
    },
    {
      "cell_type": "code",
      "metadata": {
        "id": "9NuqjZsfOWzC",
        "outputId": "21413a34-656c-4a7b-af77-82aa41142d0e"
      },
      "source": [
        "for i in range(10):\n",
        "    if i>4:\n",
        "        print \"The end.\"\n",
        "        continue\n",
        "    elif i<7:\n",
        "        print i"
      ],
      "execution_count": null,
      "outputs": [
        {
          "output_type": "stream",
          "text": [
            "0\n",
            "1\n",
            "2\n",
            "3\n",
            "4\n",
            "The end.\n",
            "The end.\n",
            "The end.\n",
            "The end.\n",
            "The end.\n"
          ],
          "name": "stdout"
        }
      ]
    },
    {
      "cell_type": "markdown",
      "metadata": {
        "id": "tq6v40xxOWzC"
      },
      "source": [
        "##List Comprehensions"
      ]
    },
    {
      "cell_type": "markdown",
      "metadata": {
        "id": "4Lyx6aZFOWzC"
      },
      "source": [
        "Python makes it simple to generate a required list with a single line of code using list comprehensions. For example If i need to generate multiples of say 27 I write the code using for loop as,"
      ]
    },
    {
      "cell_type": "code",
      "metadata": {
        "id": "08_SG78NOWzC",
        "outputId": "994c5d73-e00b-4183-b5b1-73f8a4a44a74"
      },
      "source": [
        "res = []\n",
        "for i in range(1,11):\n",
        "    x = 27*i\n",
        "    res.append(x)\n",
        "print res"
      ],
      "execution_count": null,
      "outputs": [
        {
          "output_type": "stream",
          "text": [
            "[27, 54, 81, 108, 135, 162, 189, 216, 243, 270]\n"
          ],
          "name": "stdout"
        }
      ]
    },
    {
      "cell_type": "markdown",
      "metadata": {
        "id": "9f0OdGj_OWzD"
      },
      "source": [
        "Since you are generating another list altogether and that is what is required, List comprehensions is a more efficient way to solve this problem."
      ]
    },
    {
      "cell_type": "code",
      "metadata": {
        "id": "soO_Oh5XOWzD",
        "outputId": "a6688553-8ab7-4167-9578-53174c3f8585"
      },
      "source": [
        "[27*x for x in range(1,11)]"
      ],
      "execution_count": null,
      "outputs": [
        {
          "output_type": "execute_result",
          "data": {
            "text/plain": [
              "[27, 54, 81, 108, 135, 162, 189, 216, 243, 270]"
            ]
          },
          "metadata": {
            "tags": []
          },
          "execution_count": 12
        }
      ]
    },
    {
      "cell_type": "markdown",
      "metadata": {
        "id": "w5YgprEcOWzD"
      },
      "source": [
        "That's it!. Only remember to enclose it in square brackets"
      ]
    },
    {
      "cell_type": "markdown",
      "metadata": {
        "id": "AB9xTD-8OWzE"
      },
      "source": [
        "Understanding the code, The first bit of the code is always the algorithm and then leave a space and then write the necessary loop. But you might be wondering can nested loops be extended to list comprehensions? Yes you can."
      ]
    },
    {
      "cell_type": "code",
      "metadata": {
        "id": "rhTMBjc2OWzE",
        "outputId": "3725dad8-d416-4273-a403-688d35b86a6f"
      },
      "source": [
        "[27*x for x in range(1,20) if x<=10]"
      ],
      "execution_count": null,
      "outputs": [
        {
          "output_type": "execute_result",
          "data": {
            "text/plain": [
              "[27, 54, 81, 108, 135, 162, 189, 216, 243, 270]"
            ]
          },
          "metadata": {
            "tags": []
          },
          "execution_count": 13
        }
      ]
    },
    {
      "cell_type": "markdown",
      "metadata": {
        "id": "qsjoMEewOWzE"
      },
      "source": [
        "Let me add one more loop to make you understand better, "
      ]
    },
    {
      "cell_type": "code",
      "metadata": {
        "id": "rz7kT9KnOWzE",
        "outputId": "cf3d2204-a5eb-4aba-a942-cda6b9932667"
      },
      "source": [
        "[27*z for i in range(50) if i==27 for z in range(1,11)]"
      ],
      "execution_count": null,
      "outputs": [
        {
          "output_type": "execute_result",
          "data": {
            "text/plain": [
              "[27, 54, 81, 108, 135, 162, 189, 216, 243, 270]"
            ]
          },
          "metadata": {
            "tags": []
          },
          "execution_count": 14
        }
      ]
    }
  ]
}