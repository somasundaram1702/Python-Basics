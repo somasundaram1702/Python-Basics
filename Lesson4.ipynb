{
  "nbformat": 4,
  "nbformat_minor": 0,
  "metadata": {
    "kernelspec": {
      "display_name": "Python 2",
      "language": "python",
      "name": "python2"
    },
    "language_info": {
      "codemirror_mode": {
        "name": "ipython",
        "version": 2
      },
      "file_extension": ".py",
      "mimetype": "text/x-python",
      "name": "python",
      "nbconvert_exporter": "python",
      "pygments_lexer": "ipython2",
      "version": "2.7.10"
    },
    "colab": {
      "name": "Lesson4.ipynb",
      "provenance": [],
      "toc_visible": true
    }
  },
  "cells": [
    {
      "cell_type": "markdown",
      "metadata": {
        "id": "4jhe-kxmCE8b"
      },
      "source": [
        "#Data Structures"
      ]
    },
    {
      "cell_type": "markdown",
      "metadata": {
        "id": "cAtj8tHyCE8c"
      },
      "source": [
        "In simple terms, It is the the collection or group of data in a particular structure."
      ]
    },
    {
      "cell_type": "markdown",
      "metadata": {
        "id": "LyCUYV_cCE8c"
      },
      "source": [
        "##Lists"
      ]
    },
    {
      "cell_type": "markdown",
      "metadata": {
        "id": "-DyiFUC5CE8c"
      },
      "source": [
        "Lists are the most commonly used data structure. Think of it as a sequence of data that is enclosed in square brackets and data are separated by a comma. Each of these data can be accessed by calling it's index value.\n",
        "\n",
        "Lists are declared by just equating a variable to '[ ]' or list."
      ]
    },
    {
      "cell_type": "code",
      "metadata": {
        "id": "UbZ0mscGCE8d"
      },
      "source": [
        "a = []"
      ],
      "execution_count": 14,
      "outputs": []
    },
    {
      "cell_type": "code",
      "metadata": {
        "colab": {
          "base_uri": "https://localhost:8080/"
        },
        "id": "9KS_bqv9CE8d",
        "outputId": "f4d0e283-0a44-4e1a-fbf2-50bc89716df5"
      },
      "source": [
        "print type(a)"
      ],
      "execution_count": 15,
      "outputs": [
        {
          "output_type": "stream",
          "text": [
            "<type 'list'>\n"
          ],
          "name": "stdout"
        }
      ]
    },
    {
      "cell_type": "markdown",
      "metadata": {
        "id": "bULQXxtXCE8e"
      },
      "source": [
        "One can directly assign the sequence of data to a list x as shown."
      ]
    },
    {
      "cell_type": "code",
      "metadata": {
        "id": "qVMz1JTtCE8e"
      },
      "source": [
        "x = ['apple', 'orange']"
      ],
      "execution_count": 16,
      "outputs": []
    },
    {
      "cell_type": "markdown",
      "metadata": {
        "id": "XXsDPhsACE8e"
      },
      "source": [
        "### Indexing"
      ]
    },
    {
      "cell_type": "markdown",
      "metadata": {
        "id": "3PcE1P8aCE8f"
      },
      "source": [
        "In python, Indexing starts from 0. Thus now the list x, which has two elements will have apple at 0 index and orange at 1 index."
      ]
    },
    {
      "cell_type": "code",
      "metadata": {
        "colab": {
          "base_uri": "https://localhost:8080/",
          "height": 35
        },
        "id": "hll-ccdwCE8f",
        "outputId": "d2dbc1ff-ca4a-4b1a-eef6-e8205e69a3d7"
      },
      "source": [
        "x[0]"
      ],
      "execution_count": 18,
      "outputs": [
        {
          "output_type": "execute_result",
          "data": {
            "application/vnd.google.colaboratory.intrinsic+json": {
              "type": "string"
            },
            "text/plain": [
              "'apple'"
            ]
          },
          "metadata": {
            "tags": []
          },
          "execution_count": 18
        }
      ]
    },
    {
      "cell_type": "markdown",
      "metadata": {
        "id": "G2sv8Ok4CE8g"
      },
      "source": [
        "Indexing can also be done in reverse order. That is the last element can be accessed first. Here, indexing starts from -1. Thus index value -1 will be orange and index -2 will be apple."
      ]
    },
    {
      "cell_type": "code",
      "metadata": {
        "colab": {
          "base_uri": "https://localhost:8080/",
          "height": 35
        },
        "id": "TSDdX1WVCE8g",
        "outputId": "603de949-9a47-4252-e944-ee2713fa7e5c"
      },
      "source": [
        "x[-1]"
      ],
      "execution_count": 19,
      "outputs": [
        {
          "output_type": "execute_result",
          "data": {
            "application/vnd.google.colaboratory.intrinsic+json": {
              "type": "string"
            },
            "text/plain": [
              "'orange'"
            ]
          },
          "metadata": {
            "tags": []
          },
          "execution_count": 19
        }
      ]
    },
    {
      "cell_type": "markdown",
      "metadata": {
        "id": "2_Oqq8DnCE8g"
      },
      "source": [
        "As you might have already guessed, x[0] = x[-2], x[1] = x[-1]. This concept can be extended towards lists with more many elements."
      ]
    },
    {
      "cell_type": "code",
      "metadata": {
        "id": "HXSxoZasCE8h"
      },
      "source": [
        "y = ['carrot','potato']"
      ],
      "execution_count": 20,
      "outputs": []
    },
    {
      "cell_type": "markdown",
      "metadata": {
        "id": "LX-_LaK3CE8h"
      },
      "source": [
        "Here we have declared two lists x and y each containing its own data. Now, these two lists can again be put into another list say z which will have it's data as two lists. This list inside a list is called as nested lists and is how an array would be declared which we will see later."
      ]
    },
    {
      "cell_type": "code",
      "metadata": {
        "colab": {
          "base_uri": "https://localhost:8080/"
        },
        "id": "3v7askWiCE8h",
        "outputId": "a0e2ebb0-716d-4e2b-f784-ae36e7fb88ed"
      },
      "source": [
        "z  = [x,y]\n",
        "print z"
      ],
      "execution_count": 22,
      "outputs": [
        {
          "output_type": "stream",
          "text": [
            "[['apple', 'orange'], ['carrot', 'potato']]\n"
          ],
          "name": "stdout"
        }
      ]
    },
    {
      "cell_type": "markdown",
      "metadata": {
        "id": "vYmrL9dzCE8h"
      },
      "source": [
        "Indexing in nested lists can be quite confusing if you do not understand how indexing works in python. So let us break it down and then arrive at a conclusion.\n",
        "\n",
        "Let us access the data 'apple' in the above nested list.\n",
        "First, at index 0 there is a list ['apple','orange'] and at index 1 there is another list ['carrot','potato']. Hence z[0] should give us the first list which contains 'apple'."
      ]
    },
    {
      "cell_type": "code",
      "metadata": {
        "colab": {
          "base_uri": "https://localhost:8080/"
        },
        "id": "fBAatpCgCE8h",
        "outputId": "be67eae4-2e9b-4b7d-8103-d4ac59b65877"
      },
      "source": [
        "z1 = z[0]\n",
        "print z1"
      ],
      "execution_count": 23,
      "outputs": [
        {
          "output_type": "stream",
          "text": [
            "['apple', 'orange']\n"
          ],
          "name": "stdout"
        }
      ]
    },
    {
      "cell_type": "markdown",
      "metadata": {
        "id": "2CF3ogdbCE8i"
      },
      "source": [
        "Now observe that z1 is not at all a nested list thus to access 'apple', z1 should be indexed at 0."
      ]
    },
    {
      "cell_type": "code",
      "metadata": {
        "id": "5EBzr-6eCE8i",
        "outputId": "b26861ec-a12b-4345-bb5e-472a1005cf7e"
      },
      "source": [
        "z1[0]"
      ],
      "execution_count": null,
      "outputs": [
        {
          "output_type": "execute_result",
          "data": {
            "text/plain": [
              "'apple'"
            ]
          },
          "metadata": {
            "tags": []
          },
          "execution_count": 9
        }
      ]
    },
    {
      "cell_type": "markdown",
      "metadata": {
        "id": "lg1jIsxfCE8i"
      },
      "source": [
        "Instead of doing the above, In python, you can access 'apple' by just writing the index values each time side by side."
      ]
    },
    {
      "cell_type": "code",
      "metadata": {
        "colab": {
          "base_uri": "https://localhost:8080/",
          "height": 35
        },
        "id": "kBaFmt8BCE8i",
        "outputId": "9f17fd1b-bcf2-440b-f7ff-8af2e1cee7c8"
      },
      "source": [
        "z[0][0]"
      ],
      "execution_count": 24,
      "outputs": [
        {
          "output_type": "execute_result",
          "data": {
            "application/vnd.google.colaboratory.intrinsic+json": {
              "type": "string"
            },
            "text/plain": [
              "'apple'"
            ]
          },
          "metadata": {
            "tags": []
          },
          "execution_count": 24
        }
      ]
    },
    {
      "cell_type": "markdown",
      "metadata": {
        "id": "mBU-iX9rCE8i"
      },
      "source": [
        "If there was a list inside a list inside a list then you can access the innermost value by executing z[ ][ ][ ]."
      ]
    },
    {
      "cell_type": "markdown",
      "metadata": {
        "id": "8gpln83xCE8j"
      },
      "source": [
        "### Slicing"
      ]
    },
    {
      "cell_type": "markdown",
      "metadata": {
        "id": "DmoIu2lYCE8j"
      },
      "source": [
        "Indexing was only limited to accessing a single element, Slicing on the other hand is accessing a sequence of data inside the list. In other words \"slicing\" the list.\n",
        "\n",
        "Slicing is done by defining the index values of the first element and the last element from the parent list that is required in the sliced list. It is written as parentlist[ a : b ] where a,b are the index values from the parent list. If a or b is not defined then the index value is considered to be the first value for a if a is not defined and the last value for b when b is not defined."
      ]
    },
    {
      "cell_type": "code",
      "metadata": {
        "collapsed": true,
        "id": "VPTw5VRqCE8j"
      },
      "source": [
        "num = [0,1,2,3,4,5,6,7,8,9]"
      ],
      "execution_count": 27,
      "outputs": []
    },
    {
      "cell_type": "code",
      "metadata": {
        "colab": {
          "base_uri": "https://localhost:8080/"
        },
        "id": "S0prHBYZCE8j",
        "outputId": "a7abf568-18f8-4b97-b97c-8a4cda0b4260"
      },
      "source": [
        "print num[0:4]\n",
        "print num[4:]"
      ],
      "execution_count": 28,
      "outputs": [
        {
          "output_type": "stream",
          "text": [
            "[0, 1, 2, 3]\n",
            "[4, 5, 6, 7, 8, 9]\n"
          ],
          "name": "stdout"
        }
      ]
    },
    {
      "cell_type": "markdown",
      "metadata": {
        "id": "OGEn3YR3CE8j"
      },
      "source": [
        "You can also slice a parent list with a fixed length or step length."
      ]
    },
    {
      "cell_type": "code",
      "metadata": {
        "colab": {
          "base_uri": "https://localhost:8080/"
        },
        "id": "1IZC8HHQCE8j",
        "outputId": "6e2cb7f6-66ba-443e-e99d-ca042abd70eb"
      },
      "source": [
        "num[:9:3]"
      ],
      "execution_count": 29,
      "outputs": [
        {
          "output_type": "execute_result",
          "data": {
            "text/plain": [
              "[0, 3, 6]"
            ]
          },
          "metadata": {
            "tags": []
          },
          "execution_count": 29
        }
      ]
    },
    {
      "cell_type": "markdown",
      "metadata": {
        "id": "jm8wXlFNCE8k"
      },
      "source": [
        "###Built in List Functions"
      ]
    },
    {
      "cell_type": "markdown",
      "metadata": {
        "id": "xkT-b9lUCE8k"
      },
      "source": [
        "To find the length of the list or the number of elements in a list, **len( )** is used."
      ]
    },
    {
      "cell_type": "code",
      "metadata": {
        "colab": {
          "base_uri": "https://localhost:8080/"
        },
        "id": "R4aObw-QCE8k",
        "outputId": "6ccc7452-eb60-498b-e48d-47c89a1e38f3"
      },
      "source": [
        "len(num)"
      ],
      "execution_count": 30,
      "outputs": [
        {
          "output_type": "execute_result",
          "data": {
            "text/plain": [
              "10"
            ]
          },
          "metadata": {
            "tags": []
          },
          "execution_count": 30
        }
      ]
    },
    {
      "cell_type": "markdown",
      "metadata": {
        "id": "ovKMgnBBCE8k"
      },
      "source": [
        "If the list consists of all integer elements then **min( )** and **max( )** gives the minimum and maximum value in the list."
      ]
    },
    {
      "cell_type": "code",
      "metadata": {
        "colab": {
          "base_uri": "https://localhost:8080/"
        },
        "id": "2y4lsA6tCE8k",
        "outputId": "ef8ca45b-9dec-4ab1-d1a5-cea6ef734282"
      },
      "source": [
        "min(num)"
      ],
      "execution_count": 31,
      "outputs": [
        {
          "output_type": "execute_result",
          "data": {
            "text/plain": [
              "0"
            ]
          },
          "metadata": {
            "tags": []
          },
          "execution_count": 31
        }
      ]
    },
    {
      "cell_type": "code",
      "metadata": {
        "colab": {
          "base_uri": "https://localhost:8080/"
        },
        "id": "CRwed6m2CE8k",
        "outputId": "7f0c0cf4-441a-4772-f571-5b0f06e5193e"
      },
      "source": [
        "max(num)\r\n"
      ],
      "execution_count": 32,
      "outputs": [
        {
          "output_type": "execute_result",
          "data": {
            "text/plain": [
              "9"
            ]
          },
          "metadata": {
            "tags": []
          },
          "execution_count": 32
        }
      ]
    },
    {
      "cell_type": "markdown",
      "metadata": {
        "id": "R7i6su70CE8l"
      },
      "source": [
        "Lists can be concatenated by adding, '+' them. The resultant list will contain all the elements of the lists that were added. The resultant list will not be a nested list."
      ]
    },
    {
      "cell_type": "code",
      "metadata": {
        "colab": {
          "base_uri": "https://localhost:8080/"
        },
        "id": "WxV8TP83CE8l",
        "outputId": "2872fe50-53dd-49c4-b4cb-4b0cf1e43154"
      },
      "source": [
        "[1,2,3] + [5,4,7]"
      ],
      "execution_count": 33,
      "outputs": [
        {
          "output_type": "execute_result",
          "data": {
            "text/plain": [
              "[1, 2, 3, 5, 4, 7]"
            ]
          },
          "metadata": {
            "tags": []
          },
          "execution_count": 33
        }
      ]
    },
    {
      "cell_type": "markdown",
      "metadata": {
        "id": "ZS04pUOsCE8l"
      },
      "source": [
        "There might arise a requirement where you might need to check if a particular element is there in a predefined list. Consider the below list."
      ]
    },
    {
      "cell_type": "code",
      "metadata": {
        "id": "LCCQyZweCE8l"
      },
      "source": [
        "names = ['Earth','Air','Fire','Water']"
      ],
      "execution_count": 34,
      "outputs": []
    },
    {
      "cell_type": "markdown",
      "metadata": {
        "id": "QhQ5PU9iCE8l"
      },
      "source": [
        "To check if 'Fire' and 'Rajath' is present in the list names. A conventional approach would be to use a for loop and iterate over the list and use the if condition. But in python you can use 'a in b' concept which would return 'True' if a is present in b and 'False' if not."
      ]
    },
    {
      "cell_type": "code",
      "metadata": {
        "colab": {
          "base_uri": "https://localhost:8080/"
        },
        "id": "LksPovBuCE8l",
        "outputId": "63ecfe3b-879a-4a43-94ed-71baa5de172d"
      },
      "source": [
        "'Fire' in names"
      ],
      "execution_count": 35,
      "outputs": [
        {
          "output_type": "execute_result",
          "data": {
            "text/plain": [
              "True"
            ]
          },
          "metadata": {
            "tags": []
          },
          "execution_count": 35
        }
      ]
    },
    {
      "cell_type": "code",
      "metadata": {
        "colab": {
          "base_uri": "https://localhost:8080/"
        },
        "id": "nlONHk_qCE8m",
        "outputId": "e7ca9a12-bd99-4138-8947-a2812ac3c80f"
      },
      "source": [
        "'Karthick' in names"
      ],
      "execution_count": 37,
      "outputs": [
        {
          "output_type": "execute_result",
          "data": {
            "text/plain": [
              "False"
            ]
          },
          "metadata": {
            "tags": []
          },
          "execution_count": 37
        }
      ]
    },
    {
      "cell_type": "markdown",
      "metadata": {
        "id": "VQqP-GjZCE8m"
      },
      "source": [
        "In a list with elements as string, **max( )** and **min( )** is applicable. **max( )** would return a string element whose ASCII value is the highest and the lowest when **min( )** is used. Note that only the first index of each element is considered each time and if they value is the same then second index considered so on and so forth."
      ]
    },
    {
      "cell_type": "code",
      "metadata": {
        "collapsed": true,
        "id": "uDcYJLolCE8m"
      },
      "source": [
        "mlist = ['bzaa','ds','nc','az','z','klm']"
      ],
      "execution_count": null,
      "outputs": []
    },
    {
      "cell_type": "code",
      "metadata": {
        "id": "zbbrP2e_CE8m",
        "outputId": "602a7413-74aa-44c7-8216-0a2eec58056d"
      },
      "source": [
        "print max(mlist)\n",
        "print min(mlist)"
      ],
      "execution_count": null,
      "outputs": [
        {
          "output_type": "stream",
          "text": [
            "z\n",
            "az\n"
          ],
          "name": "stdout"
        }
      ]
    },
    {
      "cell_type": "markdown",
      "metadata": {
        "id": "N46SGi7yCE8m"
      },
      "source": [
        "Here the first index of each element is considered and thus z has the highest ASCII value thus it is returned and minimum ASCII is a. But what if numbers are declared as strings?"
      ]
    },
    {
      "cell_type": "code",
      "metadata": {
        "collapsed": true,
        "id": "dEMHUy0NCE8m"
      },
      "source": [
        "nlist = ['1','94','93','1000']"
      ],
      "execution_count": null,
      "outputs": []
    },
    {
      "cell_type": "code",
      "metadata": {
        "id": "o-9ov7h0CE8n",
        "outputId": "9d6b9ea2-7777-43b7-9a04-285f26ff0645"
      },
      "source": [
        "print max(nlist)\n",
        "print min(nlist)"
      ],
      "execution_count": null,
      "outputs": [
        {
          "output_type": "stream",
          "text": [
            "94\n",
            "1\n"
          ],
          "name": "stdout"
        }
      ]
    },
    {
      "cell_type": "markdown",
      "metadata": {
        "id": "R6hTYQ8NCE8n"
      },
      "source": [
        "Even if the numbers are declared in a string the first index of each element is considered and the maximum and minimum values are returned accordingly."
      ]
    },
    {
      "cell_type": "markdown",
      "metadata": {
        "id": "rVSbafPLCE8n"
      },
      "source": [
        "But if you want to find the **max( )** string element based on the length of the string then another parameter 'key=len' is declared inside the **max( )** and **min( )** function."
      ]
    },
    {
      "cell_type": "code",
      "metadata": {
        "id": "ywl9Vwo3CE8n",
        "outputId": "8d7abf0d-9fbb-4aeb-e23c-65521e4d6c35"
      },
      "source": [
        "print max(names, key=len)\n",
        "print min(names, key=len)"
      ],
      "execution_count": null,
      "outputs": [
        {
          "output_type": "stream",
          "text": [
            "Earth\n",
            "Air\n"
          ],
          "name": "stdout"
        }
      ]
    },
    {
      "cell_type": "markdown",
      "metadata": {
        "id": "ZEkLsnMyCE8n"
      },
      "source": [
        "But even 'Water' has length 5. **max()** or **min()** function returns the first element when there are two or more elements with the same length.\n",
        "\n",
        "Any other built in function can be used or lambda function (will be discussed later) in place of len.\n",
        "\n",
        "A string can be converted into a list by using the **list()** function."
      ]
    },
    {
      "cell_type": "code",
      "metadata": {
        "colab": {
          "base_uri": "https://localhost:8080/"
        },
        "id": "fJLyUNAJCE8n",
        "outputId": "e2157011-0f06-427a-9564-25abf0821290"
      },
      "source": [
        "list('hello')"
      ],
      "execution_count": 38,
      "outputs": [
        {
          "output_type": "execute_result",
          "data": {
            "text/plain": [
              "['h', 'e', 'l', 'l', 'o']"
            ]
          },
          "metadata": {
            "tags": []
          },
          "execution_count": 38
        }
      ]
    },
    {
      "cell_type": "markdown",
      "metadata": {
        "id": "laI4zzwkCE8o"
      },
      "source": [
        "**append( )** is used to add a element at the end of the list."
      ]
    },
    {
      "cell_type": "code",
      "metadata": {
        "id": "B_rWw-2GCE8o"
      },
      "source": [
        "lst = [1,1,4,8,7]"
      ],
      "execution_count": 39,
      "outputs": []
    },
    {
      "cell_type": "code",
      "metadata": {
        "colab": {
          "base_uri": "https://localhost:8080/"
        },
        "id": "nU8rdM3wCE8o",
        "outputId": "a51479c6-d7ca-4562-c2a3-ab59f4756dc1"
      },
      "source": [
        "lst.append(1)\n",
        "print lst"
      ],
      "execution_count": 40,
      "outputs": [
        {
          "output_type": "stream",
          "text": [
            "[1, 1, 4, 8, 7, 1]\n"
          ],
          "name": "stdout"
        }
      ]
    },
    {
      "cell_type": "markdown",
      "metadata": {
        "id": "Rw_9sio8CE8o"
      },
      "source": [
        "**count( )** is used to count the number of a particular element that is present in the list. "
      ]
    },
    {
      "cell_type": "code",
      "metadata": {
        "id": "odq2-XpOCE8o",
        "outputId": "cb183df9-e65e-4c3d-99b0-c775a6887c09"
      },
      "source": [
        "lst.count(1)"
      ],
      "execution_count": null,
      "outputs": [
        {
          "output_type": "execute_result",
          "data": {
            "text/plain": [
              "3"
            ]
          },
          "metadata": {
            "tags": []
          },
          "execution_count": 29
        }
      ]
    },
    {
      "cell_type": "markdown",
      "metadata": {
        "id": "1-CZM1U1CE8p"
      },
      "source": [
        "**append( )** function can also be used to add a entire list at the end. Observe that the resultant list becomes a nested list."
      ]
    },
    {
      "cell_type": "code",
      "metadata": {
        "collapsed": true,
        "id": "-OR6xD-qCE8p"
      },
      "source": [
        "lst1 = [5,4,2,8]"
      ],
      "execution_count": 42,
      "outputs": []
    },
    {
      "cell_type": "code",
      "metadata": {
        "colab": {
          "base_uri": "https://localhost:8080/"
        },
        "id": "kxD0kUeiCE8p",
        "outputId": "c7553f6e-f924-466d-a4ab-f26a2245e73f"
      },
      "source": [
        "lst.append(lst1)\n",
        "print lst"
      ],
      "execution_count": 43,
      "outputs": [
        {
          "output_type": "stream",
          "text": [
            "[1, 1, 4, 8, 7, 1, [5, 4, 2, 8]]\n"
          ],
          "name": "stdout"
        }
      ]
    },
    {
      "cell_type": "markdown",
      "metadata": {
        "collapsed": false,
        "id": "qVpVVyV0CE8p"
      },
      "source": [
        "But if nested list is not what is desired then **extend( )** function can be used."
      ]
    },
    {
      "cell_type": "code",
      "metadata": {
        "colab": {
          "base_uri": "https://localhost:8080/"
        },
        "id": "kAKtsX5oCE8q",
        "outputId": "f71820d6-45d6-43fe-c0e1-e4398c34fcfb"
      },
      "source": [
        "lst.extend(lst1)\n",
        "print lst"
      ],
      "execution_count": 44,
      "outputs": [
        {
          "output_type": "stream",
          "text": [
            "[1, 1, 4, 8, 7, 1, [5, 4, 2, 8], 5, 4, 2, 8]\n"
          ],
          "name": "stdout"
        }
      ]
    },
    {
      "cell_type": "markdown",
      "metadata": {
        "id": "g1I-aPq9CE8q"
      },
      "source": [
        "**index( )** is used to find the index value of a particular element. Note that if there are multiple elements of the same value then the first index value of that element is returned."
      ]
    },
    {
      "cell_type": "code",
      "metadata": {
        "colab": {
          "base_uri": "https://localhost:8080/"
        },
        "id": "z156_sZRCE8q",
        "outputId": "f9a28958-25e6-421f-e01d-b52368334845"
      },
      "source": [
        "lst.index(1)"
      ],
      "execution_count": 45,
      "outputs": [
        {
          "output_type": "execute_result",
          "data": {
            "text/plain": [
              "0"
            ]
          },
          "metadata": {
            "tags": []
          },
          "execution_count": 45
        }
      ]
    },
    {
      "cell_type": "markdown",
      "metadata": {
        "id": "sJeFLfkhCE8q"
      },
      "source": [
        "**insert(x,y)** is used to insert a element y at a specified index value x. **append( )** function made it only possible to insert at the end. "
      ]
    },
    {
      "cell_type": "code",
      "metadata": {
        "colab": {
          "base_uri": "https://localhost:8080/"
        },
        "id": "if8S6RcbCE8q",
        "outputId": "8f771a5c-72ac-498e-e21b-1a0e856a5514"
      },
      "source": [
        "lst.insert(5, 'name')\n",
        "print lst"
      ],
      "execution_count": 46,
      "outputs": [
        {
          "output_type": "stream",
          "text": [
            "[1, 1, 4, 8, 7, 'name', 1, [5, 4, 2, 8], 5, 4, 2, 8]\n"
          ],
          "name": "stdout"
        }
      ]
    },
    {
      "cell_type": "markdown",
      "metadata": {
        "id": "tIJqARKyCE8r"
      },
      "source": [
        "**insert(x,y)** inserts but does not replace element. If you want to replace the element with another element you simply assign the value to that particular index."
      ]
    },
    {
      "cell_type": "code",
      "metadata": {
        "colab": {
          "base_uri": "https://localhost:8080/"
        },
        "id": "zon4sDoyCE8r",
        "outputId": "e9d9d746-4436-43ce-9aec-91e700b2d77a"
      },
      "source": [
        "lst[5] = 'Python'\n",
        "print lst"
      ],
      "execution_count": 47,
      "outputs": [
        {
          "output_type": "stream",
          "text": [
            "[1, 1, 4, 8, 7, 'Python', 1, [5, 4, 2, 8], 5, 4, 2, 8]\n"
          ],
          "name": "stdout"
        }
      ]
    },
    {
      "cell_type": "code",
      "metadata": {
        "colab": {
          "base_uri": "https://localhost:8080/"
        },
        "id": "LtpRGGIAIqLq",
        "outputId": "1761fd37-0505-4795-dc34-66f0066b8220"
      },
      "source": [
        "lst[7]"
      ],
      "execution_count": 48,
      "outputs": [
        {
          "output_type": "execute_result",
          "data": {
            "text/plain": [
              "[5, 4, 2, 8]"
            ]
          },
          "metadata": {
            "tags": []
          },
          "execution_count": 48
        }
      ]
    },
    {
      "cell_type": "markdown",
      "metadata": {
        "id": "qXT_Kl1JCE8r"
      },
      "source": [
        "**pop( )** function return the last element in the list. This is similar to the operation of a stack. Hence it wouldn't be wrong to tell that lists can be used as a stack."
      ]
    },
    {
      "cell_type": "code",
      "metadata": {
        "id": "9rRE5KT6CE8r",
        "outputId": "580f602f-3d14-4c77-e7d2-2d29c5395594"
      },
      "source": [
        "lst.pop()"
      ],
      "execution_count": null,
      "outputs": [
        {
          "output_type": "execute_result",
          "data": {
            "text/plain": [
              "8"
            ]
          },
          "metadata": {
            "tags": []
          },
          "execution_count": 36
        }
      ]
    },
    {
      "cell_type": "markdown",
      "metadata": {
        "id": "--trhUKXCE8r"
      },
      "source": [
        "Index value can be specified to pop a ceratin element corresponding to that index value."
      ]
    },
    {
      "cell_type": "code",
      "metadata": {
        "colab": {
          "base_uri": "https://localhost:8080/",
          "height": 35
        },
        "id": "Vh1GtVSaCE8r",
        "outputId": "c4ec5ee4-0ac5-4802-fc32-cf5ff7151c2b"
      },
      "source": [
        "lst.pop(5)"
      ],
      "execution_count": 49,
      "outputs": [
        {
          "output_type": "execute_result",
          "data": {
            "application/vnd.google.colaboratory.intrinsic+json": {
              "type": "string"
            },
            "text/plain": [
              "'Python'"
            ]
          },
          "metadata": {
            "tags": []
          },
          "execution_count": 49
        }
      ]
    },
    {
      "cell_type": "markdown",
      "metadata": {
        "id": "TcPLTLDQCE8s"
      },
      "source": [
        "**pop( )** is used to remove element based on it's index value which can be assigned to a variable. One can also remove element by specifying the element itself using the **remove( )** function."
      ]
    },
    {
      "cell_type": "code",
      "metadata": {
        "id": "GmMlmv1KCE8s",
        "outputId": "dd6bfc38-f86e-45ba-b567-de97dccc6234"
      },
      "source": [
        "lst.remove('Python')\n",
        "print lst"
      ],
      "execution_count": null,
      "outputs": [
        {
          "output_type": "stream",
          "text": [
            "[1, 4, 8, 7, 1, [5, 4, 2, 8], 5, 4, 2]\n"
          ],
          "name": "stdout"
        }
      ]
    },
    {
      "cell_type": "markdown",
      "metadata": {
        "id": "Fd2M4NCtCE8s"
      },
      "source": [
        "Alternative to **remove** function but with using index value is **del**"
      ]
    },
    {
      "cell_type": "code",
      "metadata": {
        "id": "HtIN9DLbCE8s",
        "outputId": "302c98e6-e7fb-498b-b8f5-582ef9cfd04a"
      },
      "source": [
        "del lst[1]\n",
        "print lst"
      ],
      "execution_count": null,
      "outputs": [
        {
          "output_type": "stream",
          "text": [
            "[1, 8, 7, 1, [5, 4, 2, 8], 5, 4, 2]\n"
          ],
          "name": "stdout"
        }
      ]
    },
    {
      "cell_type": "markdown",
      "metadata": {
        "collapsed": false,
        "id": "Sxtf82fRCE8s"
      },
      "source": [
        "The entire elements present in the list can be reversed by using the **reverse()** function."
      ]
    },
    {
      "cell_type": "code",
      "metadata": {
        "id": "O5YtQv2RCE8s",
        "outputId": "40098ab8-694f-4a2c-916f-a01c9e4c6189"
      },
      "source": [
        "lst.reverse()\n",
        "print lst"
      ],
      "execution_count": null,
      "outputs": [
        {
          "output_type": "stream",
          "text": [
            "[2, 4, 5, [5, 4, 2, 8], 1, 7, 8, 1]\n"
          ],
          "name": "stdout"
        }
      ]
    },
    {
      "cell_type": "markdown",
      "metadata": {
        "id": "AvEH3Fg3CE8s"
      },
      "source": [
        "Note that the nested list [5,4,2,8] is treated as a single element of the parent list lst. Thus the elements inside the nested list is not reversed.\n",
        "\n",
        "Python offers built in operation **sort( )** to arrange the elements in ascending order."
      ]
    },
    {
      "cell_type": "code",
      "metadata": {
        "id": "98fko7cfCE8t",
        "outputId": "72c174e4-4b06-4983-feaf-227a09eeed2f"
      },
      "source": [
        "lst.sort()\n",
        "print lst"
      ],
      "execution_count": null,
      "outputs": [
        {
          "output_type": "stream",
          "text": [
            "[1, 1, 2, 4, 5, 7, 8, [5, 4, 2, 8]]\n"
          ],
          "name": "stdout"
        }
      ]
    },
    {
      "cell_type": "markdown",
      "metadata": {
        "id": "yQrkisOCCE8t"
      },
      "source": [
        "For descending order, By default the reverse condition will be False for reverse. Hence changing it to True would arrange the elements in descending order."
      ]
    },
    {
      "cell_type": "code",
      "metadata": {
        "id": "waJoruVRCE8t",
        "outputId": "5752fd7d-5fa0-4aa9-dc6a-59ceb015fc3c"
      },
      "source": [
        "lst.sort(reverse=True)\n",
        "print lst"
      ],
      "execution_count": null,
      "outputs": [
        {
          "output_type": "stream",
          "text": [
            "[[5, 4, 2, 8], 8, 7, 5, 4, 2, 1, 1]\n"
          ],
          "name": "stdout"
        }
      ]
    },
    {
      "cell_type": "markdown",
      "metadata": {
        "id": "LVaiPCItCE8t"
      },
      "source": [
        "Similarly for lists containing string elements, **sort( )** would sort the elements based on it's ASCII value in ascending and by specifying reverse=True in descending."
      ]
    },
    {
      "cell_type": "code",
      "metadata": {
        "id": "nga0sOHCCE8t",
        "outputId": "2559f86f-21cc-452c-877d-8c378201d6da"
      },
      "source": [
        "names.sort()\n",
        "print names\n",
        "names.sort(reverse=True)\n",
        "print names"
      ],
      "execution_count": null,
      "outputs": [
        {
          "output_type": "stream",
          "text": [
            "['Air', 'Earth', 'Fire', 'Water']\n",
            "['Water', 'Fire', 'Earth', 'Air']\n"
          ],
          "name": "stdout"
        }
      ]
    },
    {
      "cell_type": "markdown",
      "metadata": {
        "id": "LkkttyfqCE8t"
      },
      "source": [
        "To sort based on length key=len should be specified as shown."
      ]
    },
    {
      "cell_type": "code",
      "metadata": {
        "id": "jade9xGrCE8u",
        "outputId": "ad223c03-c056-42bc-aadc-b1c000bbeed2"
      },
      "source": [
        "names.sort(key=len)\n",
        "print names\n",
        "names.sort(key=len,reverse=True)\n",
        "print names"
      ],
      "execution_count": null,
      "outputs": [
        {
          "output_type": "stream",
          "text": [
            "['Air', 'Fire', 'Water', 'Earth']\n",
            "['Water', 'Earth', 'Fire', 'Air']\n"
          ],
          "name": "stdout"
        }
      ]
    },
    {
      "cell_type": "markdown",
      "metadata": {
        "id": "w--DzYfKCE8u"
      },
      "source": [
        "### Copying a list"
      ]
    },
    {
      "cell_type": "markdown",
      "metadata": {
        "id": "lyuFxaVSCE8u"
      },
      "source": [
        "Most of the new python programmers commit this mistake. Consider the following,"
      ]
    },
    {
      "cell_type": "code",
      "metadata": {
        "id": "C9ck64x3CE8u"
      },
      "source": [
        "lista= [2,1,4,3]"
      ],
      "execution_count": null,
      "outputs": []
    },
    {
      "cell_type": "code",
      "metadata": {
        "id": "tzPrVbk8CE8u",
        "outputId": "b23f79b8-7099-4a53-e188-f93449afee9a"
      },
      "source": [
        "listb = lista\n",
        "print listb"
      ],
      "execution_count": null,
      "outputs": [
        {
          "output_type": "stream",
          "text": [
            "[2, 1, 4, 3]\n"
          ],
          "name": "stdout"
        }
      ]
    },
    {
      "cell_type": "markdown",
      "metadata": {
        "id": "gTdeMa8KCE8u"
      },
      "source": [
        "Here, We have declared a list, lista = [2,1,4,3]. This list is copied to listb by assigning it's value and it get's copied as seen. Now we perform some random operations on lista."
      ]
    },
    {
      "cell_type": "code",
      "metadata": {
        "id": "r_UIS3DgCE8u",
        "outputId": "9c2cc60b-4e25-4939-b0d6-60ee6d6f3543"
      },
      "source": [
        "lista.pop()\n",
        "print lista\n",
        "lista.append(9)\n",
        "print lista"
      ],
      "execution_count": null,
      "outputs": [
        {
          "output_type": "stream",
          "text": [
            "[2, 1, 4]\n",
            "[2, 1, 4, 9]\n"
          ],
          "name": "stdout"
        }
      ]
    },
    {
      "cell_type": "code",
      "metadata": {
        "id": "qYxD5_zaCE8v",
        "outputId": "37107038-f4b3-410a-b0b9-3e01fe0af822"
      },
      "source": [
        "print listb"
      ],
      "execution_count": null,
      "outputs": [
        {
          "output_type": "stream",
          "text": [
            "[2, 1, 4, 9]\n"
          ],
          "name": "stdout"
        }
      ]
    },
    {
      "cell_type": "markdown",
      "metadata": {
        "id": "KQEL4ET0CE8v"
      },
      "source": [
        "listb has also changed though no operation has been performed on it. This is because you have assigned the same memory space of lista to listb. So how do fix this?\n",
        "\n",
        "If you recall, in slicing we had seen that parentlist[a:b] returns a list from parent list with start index a and end index b and if a and b is not mentioned then by default it considers the first and last element. We use the same concept here. By doing so, we are assigning the data of lista to listb as a variable."
      ]
    },
    {
      "cell_type": "code",
      "metadata": {
        "collapsed": true,
        "id": "TxSnmRH0CE8v"
      },
      "source": [
        "lista = [2,1,4,3]"
      ],
      "execution_count": null,
      "outputs": []
    },
    {
      "cell_type": "code",
      "metadata": {
        "id": "ydJPhMBoCE8w",
        "outputId": "a82cd65f-74e5-417e-db62-6e52f5416e9e"
      },
      "source": [
        "listb = lista[:]\n",
        "print listb"
      ],
      "execution_count": null,
      "outputs": [
        {
          "output_type": "stream",
          "text": [
            "[2, 1, 4, 3]\n"
          ],
          "name": "stdout"
        }
      ]
    },
    {
      "cell_type": "code",
      "metadata": {
        "id": "tKVaS6ULCE8w",
        "outputId": "a94447b5-8b71-4744-ce2d-3ae67f3ac790"
      },
      "source": [
        "lista.pop()\n",
        "print lista\n",
        "lista.append(9)\n",
        "print lista"
      ],
      "execution_count": null,
      "outputs": [
        {
          "output_type": "stream",
          "text": [
            "[2, 1, 4]\n",
            "[2, 1, 4, 9]\n"
          ],
          "name": "stdout"
        }
      ]
    },
    {
      "cell_type": "code",
      "metadata": {
        "id": "BjzUMKiiCE8x",
        "outputId": "3cdb6b24-0e71-43d0-f96f-875f63dcaaf0"
      },
      "source": [
        "print listb"
      ],
      "execution_count": null,
      "outputs": [
        {
          "output_type": "stream",
          "text": [
            "[2, 1, 4, 3]\n"
          ],
          "name": "stdout"
        }
      ]
    },
    {
      "cell_type": "markdown",
      "metadata": {
        "id": "JNKeQpWLCE8x"
      },
      "source": [
        "##Tuples"
      ]
    },
    {
      "cell_type": "markdown",
      "metadata": {
        "id": "0CrFKgoPCE8x"
      },
      "source": [
        "Tuples are similar to lists but only big difference is the elements inside a list can be changed but in tuple it cannot be changed. Think of tuples as something which has to be True for a particular something and cannot be True for no other values. For better understanding, Recall **divmod()** function."
      ]
    },
    {
      "cell_type": "code",
      "metadata": {
        "id": "HPznbCPiCE8x",
        "outputId": "6d6dec91-118f-4d23-cb2f-b8eb5ea34a23"
      },
      "source": [
        "xyz = divmod(10,3)\n",
        "print xyz\n",
        "print type(xyz)"
      ],
      "execution_count": null,
      "outputs": [
        {
          "output_type": "stream",
          "text": [
            "(3, 1)\n",
            "<type 'tuple'>\n"
          ],
          "name": "stdout"
        }
      ]
    },
    {
      "cell_type": "markdown",
      "metadata": {
        "id": "5dglKisfCE8x"
      },
      "source": [
        "Here the quotient has to be 3 and the remainder has to be 1. These values cannot be changed whatsoever when 10 is divided by 3. Hence divmod returns these values in a tuple."
      ]
    },
    {
      "cell_type": "markdown",
      "metadata": {
        "id": "j02jTYg_CE8y"
      },
      "source": [
        "To define a tuple, A variable is assigned to paranthesis ( ) or tuple( )."
      ]
    },
    {
      "cell_type": "code",
      "metadata": {
        "id": "gd865la1CE8y"
      },
      "source": [
        "tup = ()\n",
        "tup2 = tuple()"
      ],
      "execution_count": null,
      "outputs": []
    },
    {
      "cell_type": "markdown",
      "metadata": {
        "id": "xKB5fekKCE8y"
      },
      "source": [
        "If you want to directly declare a tuple it can be done by using a comma at the end of the data."
      ]
    },
    {
      "cell_type": "code",
      "metadata": {
        "id": "Sqrnm7OACE8y",
        "outputId": "f29f30aa-4ddb-4415-f339-364ef6960093"
      },
      "source": [
        "27,"
      ],
      "execution_count": null,
      "outputs": [
        {
          "output_type": "execute_result",
          "data": {
            "text/plain": [
              "(27,)"
            ]
          },
          "metadata": {
            "tags": []
          },
          "execution_count": 55
        }
      ]
    },
    {
      "cell_type": "markdown",
      "metadata": {
        "id": "Q4T7OmBkCE8y"
      },
      "source": [
        "27 when multiplied by 2 yields 54, But when multiplied with a tuple the data is repeated twice."
      ]
    },
    {
      "cell_type": "code",
      "metadata": {
        "id": "KxqsSUV-CE8y",
        "outputId": "d02c8f41-d87b-4031-80e9-638aca0dae3e"
      },
      "source": [
        "2*(27,)"
      ],
      "execution_count": null,
      "outputs": [
        {
          "output_type": "execute_result",
          "data": {
            "text/plain": [
              "(27, 27)"
            ]
          },
          "metadata": {
            "tags": []
          },
          "execution_count": 56
        }
      ]
    },
    {
      "cell_type": "markdown",
      "metadata": {
        "id": "KSnbrSVhCE8z"
      },
      "source": [
        "Values can be assigned while declaring a tuple. It takes a list as input and converts it into a tuple or it takes a string and converts it into a tuple."
      ]
    },
    {
      "cell_type": "code",
      "metadata": {
        "scrolled": true,
        "id": "H5IJoadTCE8z",
        "outputId": "08b320ca-9988-436a-879d-573f9778e8b7"
      },
      "source": [
        "tup3 = tuple([1,2,3])\n",
        "print tup3\n",
        "tup4 = tuple('Hello')\n",
        "print tup4"
      ],
      "execution_count": null,
      "outputs": [
        {
          "output_type": "stream",
          "text": [
            "(1, 2, 3)\n",
            "('H', 'e', 'l', 'l', 'o')\n"
          ],
          "name": "stdout"
        }
      ]
    },
    {
      "cell_type": "markdown",
      "metadata": {
        "id": "UosTNWBwCE8z"
      },
      "source": [
        "It follows the same indexing and slicing as Lists."
      ]
    },
    {
      "cell_type": "code",
      "metadata": {
        "id": "9sthvpgsCE8z",
        "outputId": "47c3803f-6462-4299-8f1b-c696cbc014ac"
      },
      "source": [
        "print tup3[1]\n",
        "tup5 = tup4[:3]\n",
        "print tup5"
      ],
      "execution_count": null,
      "outputs": [
        {
          "output_type": "stream",
          "text": [
            "2\n",
            "('H', 'e', 'l')\n"
          ],
          "name": "stdout"
        }
      ]
    },
    {
      "cell_type": "markdown",
      "metadata": {
        "id": "_oqokzftCE8z"
      },
      "source": [
        "### Mapping one tuple to another"
      ]
    },
    {
      "cell_type": "code",
      "metadata": {
        "collapsed": true,
        "id": "60TUOeHJCE8z"
      },
      "source": [
        "(a,b,c)= ('alpha','beta','gamma')"
      ],
      "execution_count": null,
      "outputs": []
    },
    {
      "cell_type": "code",
      "metadata": {
        "id": "92ybQkdcCE8z",
        "outputId": "c59df788-8776-49df-d90e-28ca7f08fe6b"
      },
      "source": [
        "print a,b,c"
      ],
      "execution_count": null,
      "outputs": [
        {
          "output_type": "stream",
          "text": [
            "alpha beta gamma\n"
          ],
          "name": "stdout"
        }
      ]
    },
    {
      "cell_type": "code",
      "metadata": {
        "colab": {
          "base_uri": "https://localhost:8080/"
        },
        "id": "4bozLWUfCE80",
        "outputId": "ac62ddf5-aaea-4800-b45a-0a86ba0bc733"
      },
      "source": [
        "d = tuple('Karthick')\n",
        "print d"
      ],
      "execution_count": 1,
      "outputs": [
        {
          "output_type": "stream",
          "text": [
            "('K', 'a', 'r', 't', 'h', 'i', 'c', 'k')\n"
          ],
          "name": "stdout"
        }
      ]
    },
    {
      "cell_type": "markdown",
      "metadata": {
        "id": "u4LY_Pi-CE80"
      },
      "source": [
        "### Built In Tuple functions"
      ]
    },
    {
      "cell_type": "markdown",
      "metadata": {
        "id": "GdW5f8PDCE80"
      },
      "source": [
        "**count()** function counts the number of specified element that is present in the tuple."
      ]
    },
    {
      "cell_type": "code",
      "metadata": {
        "colab": {
          "base_uri": "https://localhost:8080/"
        },
        "id": "k63F-v6ICE80",
        "outputId": "c6029de7-b084-4567-b79f-30e17275df9a"
      },
      "source": [
        "d.count('a')"
      ],
      "execution_count": 2,
      "outputs": [
        {
          "output_type": "execute_result",
          "data": {
            "text/plain": [
              "1"
            ]
          },
          "metadata": {
            "tags": []
          },
          "execution_count": 2
        }
      ]
    },
    {
      "cell_type": "markdown",
      "metadata": {
        "id": "ptcK0-jZCE80"
      },
      "source": [
        "**index()** function returns the index of the specified element. If the elements are more than one then the index of the first element of that specified element is returned"
      ]
    },
    {
      "cell_type": "code",
      "metadata": {
        "colab": {
          "base_uri": "https://localhost:8080/"
        },
        "id": "piwYwnkaCE80",
        "outputId": "948abbb0-771b-4e60-b98e-91970a843046"
      },
      "source": [
        "d.index('h')"
      ],
      "execution_count": 4,
      "outputs": [
        {
          "output_type": "execute_result",
          "data": {
            "text/plain": [
              "4"
            ]
          },
          "metadata": {
            "tags": []
          },
          "execution_count": 4
        }
      ]
    },
    {
      "cell_type": "markdown",
      "metadata": {
        "id": "WL3ufOvlCE81"
      },
      "source": [
        "##Sets"
      ]
    },
    {
      "cell_type": "markdown",
      "metadata": {
        "id": "lbtkey5iCE81"
      },
      "source": [
        "Sets are mainly used to eliminate repeated numbers in a sequence/list. It is also used to perform some standard set operations.\n",
        "\n",
        "Sets are declared as set() which will initialize a empty set. Also set([sequence]) can be executed to declare a set with elements"
      ]
    },
    {
      "cell_type": "code",
      "metadata": {
        "id": "dAiXdoSiCE81",
        "outputId": "3bcc3226-7603-409a-a333-d57b925e510c"
      },
      "source": [
        "set1 = set()\n",
        "print type(set1)"
      ],
      "execution_count": null,
      "outputs": [
        {
          "output_type": "stream",
          "text": [
            "<type 'set'>\n"
          ],
          "name": "stdout"
        }
      ]
    },
    {
      "cell_type": "code",
      "metadata": {
        "id": "C4lW7dJ4CE81",
        "outputId": "73eec6e9-c5ee-4814-c832-1d36671d47e3"
      },
      "source": [
        "set0 = set([1,2,2,3,3,4])\n",
        "print set0"
      ],
      "execution_count": null,
      "outputs": [
        {
          "output_type": "stream",
          "text": [
            "set([1, 2, 3, 4])\n"
          ],
          "name": "stdout"
        }
      ]
    },
    {
      "cell_type": "markdown",
      "metadata": {
        "id": "c8m5f56hCE81"
      },
      "source": [
        "elements 2,3 which are repeated twice are seen only once. Thus in a set each element is distinct."
      ]
    },
    {
      "cell_type": "markdown",
      "metadata": {
        "id": "Xo2YrWKBCE81"
      },
      "source": [
        "###Built-in Functions"
      ]
    },
    {
      "cell_type": "code",
      "metadata": {
        "id": "xWAnGt29CE81"
      },
      "source": [
        "set1 = set([1,2,3])"
      ],
      "execution_count": 5,
      "outputs": []
    },
    {
      "cell_type": "code",
      "metadata": {
        "id": "ju-SvCkDCE82"
      },
      "source": [
        "set2 = set([2,3,4,5])"
      ],
      "execution_count": 6,
      "outputs": []
    },
    {
      "cell_type": "markdown",
      "metadata": {
        "id": "QaqnmaT-CE82"
      },
      "source": [
        "**union( )** function returns a set which contains all the elements of both the sets without repition."
      ]
    },
    {
      "cell_type": "code",
      "metadata": {
        "colab": {
          "base_uri": "https://localhost:8080/"
        },
        "id": "noNMKQ0WCE82",
        "outputId": "03261749-ad0e-48e8-cbe8-391d9d5ce81b"
      },
      "source": [
        "set1.union(set2)"
      ],
      "execution_count": 7,
      "outputs": [
        {
          "output_type": "execute_result",
          "data": {
            "text/plain": [
              "{1, 2, 3, 4, 5}"
            ]
          },
          "metadata": {
            "tags": []
          },
          "execution_count": 7
        }
      ]
    },
    {
      "cell_type": "markdown",
      "metadata": {
        "id": "VuvB3uu6CE82"
      },
      "source": [
        "**add( )** will add a particular element into the set. Note that the index of the newly added element is arbitrary and can be placed anywhere not neccessarily in the end."
      ]
    },
    {
      "cell_type": "code",
      "metadata": {
        "colab": {
          "base_uri": "https://localhost:8080/"
        },
        "id": "SWsQ0catCE82",
        "outputId": "b3938278-2427-446e-d276-ce1aefe5bf6a"
      },
      "source": [
        "set1.add(0)\n",
        "set1"
      ],
      "execution_count": 8,
      "outputs": [
        {
          "output_type": "execute_result",
          "data": {
            "text/plain": [
              "{0, 1, 2, 3}"
            ]
          },
          "metadata": {
            "tags": []
          },
          "execution_count": 8
        }
      ]
    },
    {
      "cell_type": "markdown",
      "metadata": {
        "id": "CIrVBmODCE82"
      },
      "source": [
        "**intersection( )** function outputs a set which contains all the elements that are in both sets."
      ]
    },
    {
      "cell_type": "code",
      "metadata": {
        "colab": {
          "base_uri": "https://localhost:8080/"
        },
        "id": "B6otzH66CE82",
        "outputId": "7bba7589-36c8-4e80-deee-9ed74a7c0627"
      },
      "source": [
        "set1.intersection(set2)"
      ],
      "execution_count": 9,
      "outputs": [
        {
          "output_type": "execute_result",
          "data": {
            "text/plain": [
              "{2, 3}"
            ]
          },
          "metadata": {
            "tags": []
          },
          "execution_count": 9
        }
      ]
    },
    {
      "cell_type": "markdown",
      "metadata": {
        "id": "D153QAIqCE83"
      },
      "source": [
        "**difference( )** function ouptuts a set which contains elements that are in set1 and not in set2."
      ]
    },
    {
      "cell_type": "code",
      "metadata": {
        "colab": {
          "base_uri": "https://localhost:8080/"
        },
        "id": "aWfvqF_pENph",
        "outputId": "214332f1-d760-4290-beae-08083b412510"
      },
      "source": [
        "set1"
      ],
      "execution_count": 12,
      "outputs": [
        {
          "output_type": "execute_result",
          "data": {
            "text/plain": [
              "{0, 1, 2, 3}"
            ]
          },
          "metadata": {
            "tags": []
          },
          "execution_count": 12
        }
      ]
    },
    {
      "cell_type": "code",
      "metadata": {
        "colab": {
          "base_uri": "https://localhost:8080/"
        },
        "id": "kSPZyqXhEYUb",
        "outputId": "9f6e2d82-e4a2-4c7f-a517-42ce08357c91"
      },
      "source": [
        "set2"
      ],
      "execution_count": 13,
      "outputs": [
        {
          "output_type": "execute_result",
          "data": {
            "text/plain": [
              "{2, 3, 4, 5}"
            ]
          },
          "metadata": {
            "tags": []
          },
          "execution_count": 13
        }
      ]
    },
    {
      "cell_type": "code",
      "metadata": {
        "colab": {
          "base_uri": "https://localhost:8080/"
        },
        "id": "euUmFuVICE83",
        "outputId": "cab779b4-f652-4379-8496-bb05e3118d32"
      },
      "source": [
        "set1.difference(set2)"
      ],
      "execution_count": 10,
      "outputs": [
        {
          "output_type": "execute_result",
          "data": {
            "text/plain": [
              "{0, 1}"
            ]
          },
          "metadata": {
            "tags": []
          },
          "execution_count": 10
        }
      ]
    },
    {
      "cell_type": "markdown",
      "metadata": {
        "id": "AUsobcpNCE83"
      },
      "source": [
        "**symmetric_difference( )** function ouputs a function which contains elements that are in one of the sets."
      ]
    },
    {
      "cell_type": "code",
      "metadata": {
        "colab": {
          "base_uri": "https://localhost:8080/"
        },
        "id": "eGh8Az2ACE83",
        "outputId": "3d4202c3-677d-4b48-90f0-39720e992e85"
      },
      "source": [
        "set2.symmetric_difference(set1)"
      ],
      "execution_count": 11,
      "outputs": [
        {
          "output_type": "execute_result",
          "data": {
            "text/plain": [
              "{0, 1, 4, 5}"
            ]
          },
          "metadata": {
            "tags": []
          },
          "execution_count": 11
        }
      ]
    },
    {
      "cell_type": "markdown",
      "metadata": {
        "id": "hc2W8whiCE83"
      },
      "source": [
        "**issubset( ), isdisjoint( ), issuperset( )** is used to check if the set1/set2 is a subset, disjoint or superset of set2/set1 respectively."
      ]
    },
    {
      "cell_type": "code",
      "metadata": {
        "id": "ipNamqdbCE83",
        "outputId": "fb75b5c7-e87b-4972-f7d8-cfbbefff95ed"
      },
      "source": [
        "set1.issubset(set2)"
      ],
      "execution_count": null,
      "outputs": [
        {
          "output_type": "execute_result",
          "data": {
            "text/plain": [
              "False"
            ]
          },
          "metadata": {
            "tags": []
          },
          "execution_count": 73
        }
      ]
    },
    {
      "cell_type": "code",
      "metadata": {
        "id": "A2k39GQGCE84",
        "outputId": "e6f6b192-53a8-4812-90d8-3a1a2a9acc95"
      },
      "source": [
        "set2.isdisjoint(set1)"
      ],
      "execution_count": null,
      "outputs": [
        {
          "output_type": "execute_result",
          "data": {
            "text/plain": [
              "False"
            ]
          },
          "metadata": {
            "tags": []
          },
          "execution_count": 74
        }
      ]
    },
    {
      "cell_type": "code",
      "metadata": {
        "id": "u0xN_qKdCE84",
        "outputId": "7815a803-41ad-4d12-d97c-ffe81deca24e"
      },
      "source": [
        "set2.issuperset(set1)"
      ],
      "execution_count": null,
      "outputs": [
        {
          "output_type": "execute_result",
          "data": {
            "text/plain": [
              "False"
            ]
          },
          "metadata": {
            "tags": []
          },
          "execution_count": 75
        }
      ]
    },
    {
      "cell_type": "markdown",
      "metadata": {
        "id": "8nOznmHTCE84"
      },
      "source": [
        "**pop( )** is used to remove an arbitrary element in the set"
      ]
    },
    {
      "cell_type": "code",
      "metadata": {
        "id": "kPKX8YzUCE84",
        "outputId": "e0c75dcf-774e-4eee-b326-8c7b2d45acc1"
      },
      "source": [
        "set1.pop()\n",
        "print set1"
      ],
      "execution_count": null,
      "outputs": [
        {
          "output_type": "stream",
          "text": [
            "set([1, 2, 3])\n"
          ],
          "name": "stdout"
        }
      ]
    },
    {
      "cell_type": "markdown",
      "metadata": {
        "id": "3d9GDhvPCE84"
      },
      "source": [
        "**remove( )** function deletes the specified element from the set."
      ]
    },
    {
      "cell_type": "code",
      "metadata": {
        "id": "3TZmATWtCE84",
        "outputId": "8f790da7-05a4-4c1a-cb8c-5b8136835b11"
      },
      "source": [
        "set1.remove(2)\n",
        "set1"
      ],
      "execution_count": null,
      "outputs": [
        {
          "output_type": "execute_result",
          "data": {
            "text/plain": [
              "{1, 3}"
            ]
          },
          "metadata": {
            "tags": []
          },
          "execution_count": 77
        }
      ]
    },
    {
      "cell_type": "markdown",
      "metadata": {
        "id": "FwbD29WkCE85"
      },
      "source": [
        "**clear( )** is used to clear all the elements and make that set an empty set."
      ]
    },
    {
      "cell_type": "code",
      "metadata": {
        "id": "qrA1uVrqCE85",
        "outputId": "b1f20ea0-750c-4f0f-df65-7c3f517d01ec"
      },
      "source": [
        "set1.clear()\n",
        "set1"
      ],
      "execution_count": null,
      "outputs": [
        {
          "output_type": "execute_result",
          "data": {
            "text/plain": [
              "set()"
            ]
          },
          "metadata": {
            "tags": []
          },
          "execution_count": 78
        }
      ]
    }
  ]
}