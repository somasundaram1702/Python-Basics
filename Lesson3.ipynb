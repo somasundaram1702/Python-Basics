{
  "nbformat": 4,
  "nbformat_minor": 0,
  "metadata": {
    "kernelspec": {
      "name": "python3",
      "display_name": "Python 3"
    },
    "colab": {
      "name": "Lesson3.ipynb",
      "provenance": [],
      "toc_visible": true
    }
  },
  "cells": [
    {
      "cell_type": "markdown",
      "metadata": {
        "id": "1gsU6yLe-6dJ"
      },
      "source": [
        "#Print Statement"
      ]
    },
    {
      "cell_type": "markdown",
      "metadata": {
        "id": "mS3ypevd-6dK"
      },
      "source": [
        "The **print** statement can be used in the following different ways :\n",
        "\n",
        "    - print \"Hello World\"\n",
        "    - print \"Hello\", <Variable Containing the String>\n",
        "    - print \"Hello\" + <Variable Containing the String>\n",
        "    - print \"Hello %s\" % <variable containing the string>"
      ]
    },
    {
      "cell_type": "code",
      "metadata": {
        "colab": {
          "base_uri": "https://localhost:8080/"
        },
        "id": "W1sw_uPGALJf",
        "outputId": "fb2022ca-fe6a-404a-94ee-6c59b1021bdf"
      },
      "source": [
        "print('Hello world')"
      ],
      "execution_count": 2,
      "outputs": [
        {
          "output_type": "stream",
          "text": [
            "Hello world\n"
          ],
          "name": "stdout"
        }
      ]
    },
    {
      "cell_type": "code",
      "metadata": {
        "id": "HIjs4c41-6dK"
      },
      "source": [
        "print \"Hello World\""
      ],
      "execution_count": null,
      "outputs": []
    },
    {
      "cell_type": "markdown",
      "metadata": {
        "id": "DggmL1Qh-6dL"
      },
      "source": [
        "In Python, single, double and triple quotes are used to denote a string.\n",
        "Most use single quotes when declaring a single character. \n",
        "Double quotes when declaring a line and triple quotes when declaring a paragraph/multiple lines."
      ]
    },
    {
      "cell_type": "code",
      "metadata": {
        "colab": {
          "base_uri": "https://localhost:8080/"
        },
        "id": "GWeh4_Gx-6dM",
        "outputId": "bb5c20b8-d9c2-4190-e957-966fc2d6cc7e"
      },
      "source": [
        "print 'Hey'"
      ],
      "execution_count": 2,
      "outputs": [
        {
          "output_type": "stream",
          "text": [
            "Hey\n"
          ],
          "name": "stdout"
        }
      ]
    },
    {
      "cell_type": "code",
      "metadata": {
        "colab": {
          "base_uri": "https://localhost:8080/"
        },
        "id": "qjovF-br-6dN",
        "outputId": "f890095f-ec37-4af7-a435-5482bd501934"
      },
      "source": [
        "print(\"\"\"My name is Karthick Ambikapathy.\n",
        "\n",
        "I love Python.\"\"\")"
      ],
      "execution_count": 3,
      "outputs": [
        {
          "output_type": "stream",
          "text": [
            "My name is Karthick Ambikapathy.\n",
            "\n",
            "I love Python.\n"
          ],
          "name": "stdout"
        }
      ]
    },
    {
      "cell_type": "markdown",
      "metadata": {
        "id": "oDs45Mmf-6dO"
      },
      "source": [
        "Strings can be assigned to variable say _string1_ and _string2_ which can called when using the print statement."
      ]
    },
    {
      "cell_type": "code",
      "metadata": {
        "colab": {
          "base_uri": "https://localhost:8080/"
        },
        "id": "at754CLRAgks",
        "outputId": "d59423f1-e041-4aca-b9ec-1db71936382b"
      },
      "source": [
        "print(1,2,3)"
      ],
      "execution_count": 5,
      "outputs": [
        {
          "output_type": "stream",
          "text": [
            "1 2 3\n"
          ],
          "name": "stdout"
        }
      ]
    },
    {
      "cell_type": "code",
      "metadata": {
        "scrolled": true,
        "colab": {
          "base_uri": "https://localhost:8080/"
        },
        "id": "ddqgtaRk-6dO",
        "outputId": "10dc982a-8448-4c9c-d6bb-8e0d4fd66528"
      },
      "source": [
        "string1 = 'World'\n",
        "print('Hello', string1)\n",
        "\n",
        "string2 = '!'\n",
        "print('Hello', string1, string2)"
      ],
      "execution_count": 4,
      "outputs": [
        {
          "output_type": "stream",
          "text": [
            "Hello World\n",
            "Hello World !\n"
          ],
          "name": "stdout"
        }
      ]
    },
    {
      "cell_type": "markdown",
      "metadata": {
        "id": "qss_IjUb-6dP"
      },
      "source": [
        "String concatenation is the \"addition\" of two strings. Observe that while concatenating there will be no space between the strings."
      ]
    },
    {
      "cell_type": "code",
      "metadata": {
        "colab": {
          "base_uri": "https://localhost:8080/"
        },
        "id": "XGh8NDDn-6dP",
        "outputId": "5db1f478-92d6-4477-c1f5-d4a61ddf46db"
      },
      "source": [
        "print 'Hello' + string1 + string2"
      ],
      "execution_count": 5,
      "outputs": [
        {
          "output_type": "stream",
          "text": [
            "HelloWorld!\n"
          ],
          "name": "stdout"
        }
      ]
    },
    {
      "cell_type": "markdown",
      "metadata": {
        "id": "k_3snIl8-6dQ"
      },
      "source": [
        "**%s** is used to refer to a variable which contains a string."
      ]
    },
    {
      "cell_type": "code",
      "metadata": {
        "colab": {
          "base_uri": "https://localhost:8080/"
        },
        "id": "rEqd-y7P-6dQ",
        "outputId": "6bf30b58-fc3b-496d-efa6-10a9be1ad59b"
      },
      "source": [
        "print \"Hello %s\" % string1"
      ],
      "execution_count": 6,
      "outputs": [
        {
          "output_type": "stream",
          "text": [
            "Hello World\n"
          ],
          "name": "stdout"
        }
      ]
    },
    {
      "cell_type": "markdown",
      "metadata": {
        "id": "dg8BKMb5-6dQ"
      },
      "source": [
        "Similarly, when using other data types\n",
        "\n",
        "    - %s -> string\n",
        "    - %d -> Integer\n",
        "    - %f -> Float\n",
        "    - %o -> Octal\n",
        "    - %x -> Hexadecimal\n",
        "    - %e -> exponential\n",
        "    \n",
        "This can be used for conversions inside the print statement itself."
      ]
    },
    {
      "cell_type": "code",
      "metadata": {
        "id": "K6wYhdzb-6dQ",
        "outputId": "44e40ffc-d961-4721-cf0b-e1830ab5ac97"
      },
      "source": [
        "print \"Actual Number = %d\" %18\n",
        "print \"Float of the number = %f\" %18\n",
        "print \"Octal equivalent of the number = %o\" %18\n",
        "print \"Hexadecimal equivalent of the number = %x\" %18\n",
        "print \"Exponential equivalent of the number = %e\" %18"
      ],
      "execution_count": null,
      "outputs": [
        {
          "output_type": "stream",
          "text": [
            "Actual Number = 18\n",
            "Float of the number = 18.000000\n",
            "Octal equivalent of the number = 22\n",
            "Hexadecimal equivalent of the number = 12\n",
            "Exponential equivalent of the number = 1.800000e+01\n"
          ],
          "name": "stdout"
        }
      ]
    },
    {
      "cell_type": "markdown",
      "metadata": {
        "id": "vBHPdnHS-6dR"
      },
      "source": [
        "When referring to multiple variables parenthesis is used."
      ]
    },
    {
      "cell_type": "code",
      "metadata": {
        "id": "I3-Ce5JL-6dR",
        "outputId": "9874c632-f992-411c-dd08-98246cd3d34f"
      },
      "source": [
        "print \"Hello %s %s\" %(string1,string2)"
      ],
      "execution_count": null,
      "outputs": [
        {
          "output_type": "stream",
          "text": [
            "Hello World !\n"
          ],
          "name": "stdout"
        }
      ]
    },
    {
      "cell_type": "markdown",
      "metadata": {
        "id": "n2lLU_vB-6dR"
      },
      "source": [
        "##Other Examples"
      ]
    },
    {
      "cell_type": "markdown",
      "metadata": {
        "id": "qVByzZKm-6dR"
      },
      "source": [
        "The following are other different ways the print statement can be put to use."
      ]
    },
    {
      "cell_type": "code",
      "metadata": {
        "id": "YfkwXg3y-6dS",
        "outputId": "1a62d4dc-412c-40dc-e9ff-7391054983b6"
      },
      "source": [
        "print \"I want %%d to be printed %s\" %'here'"
      ],
      "execution_count": null,
      "outputs": [
        {
          "output_type": "stream",
          "text": [
            "I want %d to be printed here\n"
          ],
          "name": "stdout"
        }
      ]
    },
    {
      "cell_type": "code",
      "metadata": {
        "id": "kU6x1jYo-6dS",
        "outputId": "db5191db-ae16-4358-89c0-562cac1a7b39"
      },
      "source": [
        "print '_A'*10"
      ],
      "execution_count": null,
      "outputs": [
        {
          "output_type": "stream",
          "text": [
            "_A_A_A_A_A_A_A_A_A_A\n"
          ],
          "name": "stdout"
        }
      ]
    },
    {
      "cell_type": "code",
      "metadata": {
        "id": "8DYe4isY-6dS",
        "outputId": "46be4161-2a4f-4d2d-a21a-4cdda905c915"
      },
      "source": [
        "print \"Jan\\nFeb\\nMar\\nApr\\nMay\\nJun\\nJul\\nAug\""
      ],
      "execution_count": null,
      "outputs": [
        {
          "output_type": "stream",
          "text": [
            "Jan\n",
            "Feb\n",
            "Mar\n",
            "Apr\n",
            "May\n",
            "Jun\n",
            "Jul\n",
            "Aug\n"
          ],
          "name": "stdout"
        }
      ]
    },
    {
      "cell_type": "code",
      "metadata": {
        "id": "X5T0hvCZ-6dT",
        "outputId": "52aad106-b73b-4ed1-f0fe-3456edb6f01a"
      },
      "source": [
        "print \"I want \\\\n to be printed.\""
      ],
      "execution_count": null,
      "outputs": [
        {
          "output_type": "stream",
          "text": [
            "I want \\n to be printed.\n"
          ],
          "name": "stdout"
        }
      ]
    },
    {
      "cell_type": "code",
      "metadata": {
        "id": "nLnv_tSM-6dT",
        "outputId": "2b649900-5128-4a3e-974d-ac8c782ec3bf"
      },
      "source": [
        "print \"\"\"\n",
        "Routine:\n",
        "\\t- Eat\n",
        "\\t- Sleep\\n\\t- Repeat\n",
        "\"\"\""
      ],
      "execution_count": null,
      "outputs": [
        {
          "output_type": "stream",
          "text": [
            "\n",
            "Routine:\n",
            "\t- Eat\n",
            "\t- Sleep\n",
            "\t- Repeat\n",
            "\n"
          ],
          "name": "stdout"
        }
      ]
    },
    {
      "cell_type": "markdown",
      "metadata": {
        "id": "00AKeooJ-6dT"
      },
      "source": [
        "#PrecisionWidth and FieldWidth"
      ]
    },
    {
      "cell_type": "markdown",
      "metadata": {
        "id": "PUWgl7Ff-6dT"
      },
      "source": [
        "Fieldwidth is the width of the entire number and precision is the width towards the right. One can alter these widths based on the requirements.\n",
        "\n",
        "The default Precision Width is set to 6."
      ]
    },
    {
      "cell_type": "code",
      "metadata": {
        "id": "-jUUxihp-6dU",
        "outputId": "28d8a1b7-ccea-4423-e0b1-c1ac37dbcffc"
      },
      "source": [
        "\"%f\" % 3.121312312312"
      ],
      "execution_count": null,
      "outputs": [
        {
          "output_type": "execute_result",
          "data": {
            "text/plain": [
              "'3.121312'"
            ]
          },
          "metadata": {
            "tags": []
          },
          "execution_count": 14
        }
      ]
    },
    {
      "cell_type": "markdown",
      "metadata": {
        "id": "BZSmR5TA-6dU"
      },
      "source": [
        "Notice upto 6 decimal points are returned. To specify the number of decimal points, '%(fieldwidth).(precisionwidth)f' is used."
      ]
    },
    {
      "cell_type": "code",
      "metadata": {
        "id": "eYf0EA04-6dU",
        "outputId": "deaf3527-3aca-41be-a374-fbac2fd591c7"
      },
      "source": [
        "\"%.5f\" % 3.121312312312"
      ],
      "execution_count": null,
      "outputs": [
        {
          "output_type": "execute_result",
          "data": {
            "text/plain": [
              "'3.12131'"
            ]
          },
          "metadata": {
            "tags": []
          },
          "execution_count": 15
        }
      ]
    },
    {
      "cell_type": "markdown",
      "metadata": {
        "id": "vaLO6NXC-6dU"
      },
      "source": [
        "If the field width is set more than the necessary than the data right aligns itself to adjust to the specified values."
      ]
    },
    {
      "cell_type": "code",
      "metadata": {
        "id": "D0Op5w0y-6dU",
        "outputId": "027949ab-a2ff-4466-b145-25912f0e8e31"
      },
      "source": [
        "\"%9.5f\" % 3.121312312312"
      ],
      "execution_count": null,
      "outputs": [
        {
          "output_type": "execute_result",
          "data": {
            "text/plain": [
              "'  3.12131'"
            ]
          },
          "metadata": {
            "tags": []
          },
          "execution_count": 16
        }
      ]
    },
    {
      "cell_type": "markdown",
      "metadata": {
        "id": "kV1QWjF0-6dV"
      },
      "source": [
        "Zero padding is done by adding a 0 at the start of fieldwidth."
      ]
    },
    {
      "cell_type": "code",
      "metadata": {
        "id": "1psmKZqu-6dV",
        "outputId": "50264af9-ce2f-45f4-b6fe-5d94f797c017"
      },
      "source": [
        "\"%020.5f\" % 3.121312312312"
      ],
      "execution_count": null,
      "outputs": [
        {
          "output_type": "execute_result",
          "data": {
            "text/plain": [
              "'00000000000003.12131'"
            ]
          },
          "metadata": {
            "tags": []
          },
          "execution_count": 17
        }
      ]
    },
    {
      "cell_type": "markdown",
      "metadata": {
        "id": "gZp7Gnzr-6dV"
      },
      "source": [
        "For proper alignment, a space can be left blank in the field width so that when a negative number is used, proper alignment is maintained."
      ]
    },
    {
      "cell_type": "code",
      "metadata": {
        "id": "97oQYwQM-6dV",
        "outputId": "d64d8b6f-a55f-4214-f868-5c8b8a5dd5a3"
      },
      "source": [
        "print \"% 9f\" % 3.121312312312\n",
        "print \"% 9f\" % -3.121312312312"
      ],
      "execution_count": null,
      "outputs": [
        {
          "output_type": "stream",
          "text": [
            " 3.121312\n",
            "-3.121312\n"
          ],
          "name": "stdout"
        }
      ]
    },
    {
      "cell_type": "markdown",
      "metadata": {
        "id": "e7RgAlEY-6dV"
      },
      "source": [
        "'+' sign can be returned at the beginning of a positive number by adding a + sign at the beginning of the field width."
      ]
    },
    {
      "cell_type": "code",
      "metadata": {
        "id": "6fYSgYK2-6dV",
        "outputId": "d24eb95e-b6ce-45ab-b85c-96aee287d903"
      },
      "source": [
        "print \"%+9f\" % 3.121312312312\n",
        "print \"% 9f\" % -3.121312312312"
      ],
      "execution_count": null,
      "outputs": [
        {
          "output_type": "stream",
          "text": [
            "+3.121312\n",
            "-3.121312\n"
          ],
          "name": "stdout"
        }
      ]
    },
    {
      "cell_type": "markdown",
      "metadata": {
        "id": "X5cveZFW-6dW"
      },
      "source": [
        "As mentioned above, the data right aligns itself when the field width mentioned is larger than the actualy field width. But left alignment can be done by specifying a negative symbol in the field width."
      ]
    },
    {
      "cell_type": "code",
      "metadata": {
        "id": "nhPCHWgZ-6dW",
        "outputId": "e575e2bd-9434-4875-9077-643ecfd2121a"
      },
      "source": [
        "\"%-9.3f\" % 3.121312312312"
      ],
      "execution_count": null,
      "outputs": [
        {
          "output_type": "execute_result",
          "data": {
            "text/plain": [
              "'3.121    '"
            ]
          },
          "metadata": {
            "tags": []
          },
          "execution_count": 20
        }
      ]
    }
  ]
}