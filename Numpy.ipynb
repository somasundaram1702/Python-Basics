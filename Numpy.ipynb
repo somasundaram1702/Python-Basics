{
  "nbformat": 4,
  "nbformat_minor": 0,
  "metadata": {
    "colab": {
      "name": "Numpy",
      "provenance": [],
      "collapsed_sections": []
    },
    "kernelspec": {
      "name": "python3",
      "display_name": "Python 3"
    }
  },
  "cells": [
    {
      "cell_type": "code",
      "metadata": {
        "colab": {
          "base_uri": "https://localhost:8080/"
        },
        "id": "rWI0DgVnVD11",
        "outputId": "29f0f07e-4580-4913-a999-aa4d642a05c2"
      },
      "source": [
        "import numpy as np\r\n",
        "\r\n",
        "a = np.array([1, 2, 3])   # Create a rank 1 array\r\n",
        "print(type(a))            # Prints \"<class 'numpy.ndarray'>\"\r\n",
        "print(a.shape)            # Prints \"(3,)\"\r\n",
        "print(a[0], a[1], a[2])   # Prints \"1 2 3\"\r\n",
        "a[0] = 5                  # Change an element of the array\r\n",
        "print(a)                  # Prints \"[5, 2, 3]\"\r\n",
        "\r\n",
        "b = np.array([[1,2,3],[4,5,6]])    # Create a rank 2 array\r\n",
        "print(b.shape)                     # Prints \"(2, 3)\"\r\n",
        "print(b[0, 0], b[0, 1], b[1, 0])   # Prints \"1 2 4\"\r\n",
        "#print(b[0][0],b[0][1],b[1][0])\r\n",
        "#Both the above lines are same and gives same output"
      ],
      "execution_count": 2,
      "outputs": [
        {
          "output_type": "stream",
          "text": [
            "<class 'numpy.ndarray'>\n",
            "(3,)\n",
            "1 2 3\n",
            "[5 2 3]\n",
            "(2, 3)\n",
            "1 2 4\n"
          ],
          "name": "stdout"
        }
      ]
    },
    {
      "cell_type": "code",
      "metadata": {
        "colab": {
          "base_uri": "https://localhost:8080/"
        },
        "id": "EdUsEVpHftcO",
        "outputId": "51629220-3ccb-40b0-cacf-605f99cff93b"
      },
      "source": [
        "b[0,0]"
      ],
      "execution_count": 48,
      "outputs": [
        {
          "output_type": "execute_result",
          "data": {
            "text/plain": [
              "1"
            ]
          },
          "metadata": {
            "tags": []
          },
          "execution_count": 48
        }
      ]
    },
    {
      "cell_type": "code",
      "metadata": {
        "id": "qd3y6MnbfwAj"
      },
      "source": [
        "x[0]= 5\r\n",
        "x"
      ],
      "execution_count": null,
      "outputs": []
    },
    {
      "cell_type": "code",
      "metadata": {
        "id": "qT72mDu4VJPQ"
      },
      "source": [
        "x = np.array([[[1,2,3],[4,5,6],[5,6,7]]])"
      ],
      "execution_count": 41,
      "outputs": []
    },
    {
      "cell_type": "code",
      "metadata": {
        "colab": {
          "base_uri": "https://localhost:8080/"
        },
        "id": "hA_NjeNIbtCh",
        "outputId": "1f57292d-409e-44f9-ad9a-b99dc7669060"
      },
      "source": [
        "[1,2,3],[4,5,6,6],[5,6,7,8,9]"
      ],
      "execution_count": 6,
      "outputs": [
        {
          "output_type": "execute_result",
          "data": {
            "text/plain": [
              "array([5, 2, 3])"
            ]
          },
          "metadata": {
            "tags": []
          },
          "execution_count": 6
        }
      ]
    },
    {
      "cell_type": "code",
      "metadata": {
        "colab": {
          "base_uri": "https://localhost:8080/"
        },
        "id": "Fj95ffCKbt4p",
        "outputId": "ab05eab8-c0a3-40d2-e492-558828989c9b"
      },
      "source": [
        "a.shape"
      ],
      "execution_count": 8,
      "outputs": [
        {
          "output_type": "execute_result",
          "data": {
            "text/plain": [
              "(3,)"
            ]
          },
          "metadata": {
            "tags": []
          },
          "execution_count": 8
        }
      ]
    },
    {
      "cell_type": "code",
      "metadata": {
        "colab": {
          "base_uri": "https://localhost:8080/"
        },
        "id": "0trkKn4db_mo",
        "outputId": "e968c5a1-aa49-45c8-ce28-9d2da535a6c2"
      },
      "source": [
        "np.shape(x)"
      ],
      "execution_count": 42,
      "outputs": [
        {
          "output_type": "execute_result",
          "data": {
            "text/plain": [
              "(1, 3, 3)"
            ]
          },
          "metadata": {
            "tags": []
          },
          "execution_count": 42
        }
      ]
    },
    {
      "cell_type": "code",
      "metadata": {
        "colab": {
          "base_uri": "https://localhost:8080/"
        },
        "id": "rcjqJKpscQDA",
        "outputId": "c3e68c86-57a6-4900-cd0f-68b7a4e46526"
      },
      "source": [
        "# Creates a zero matrix\r\n",
        "a = np.zeros((23,23))   # Create an array of all zeros\r\n",
        "print(a)              # Prints \"[[ 0.  0.]\r\n",
        "                      #          [ 0.  0.]]\"\r\n",
        "print('-----------------------------------------')\r\n",
        "b = np.ones((5,6))    # Create an array of all ones\r\n",
        "print(b)              # Prints \"[[ 1.  1.]]\"\r\n",
        "print('-----------------------------------------')\r\n",
        "\r\n",
        "c = np.full((2,2), 7)  # Create a constant array\r\n",
        "print(c)               # Prints \"[[ 7.  7.]\r\n",
        "                       #          [ 7.  7.]]\"\r\n",
        "print('-----------------------------------------')\r\n",
        "\r\n",
        "d = np.eye(5)         # Create a 2x2 identity matrix\r\n",
        "print(d)              # Prints \"[[ 1.  0.]\r\n",
        "                      #          [ 0.  1.]]\"\r\n",
        "print('-----------------------------------------')\r\n",
        "\r\n",
        "e = np.random.random((3,2,10))  # Create an array filled with random values\r\n",
        "print(e)                     # Might print \"[[ 0.91940167  0.08143941]\r\n",
        "                             #               [ 0.68744134  0.87236687]]\""
      ],
      "execution_count": 64,
      "outputs": [
        {
          "output_type": "stream",
          "text": [
            "[[0. 0. 0. 0. 0. 0. 0. 0. 0. 0. 0. 0. 0. 0. 0. 0. 0. 0. 0. 0. 0. 0. 0.]\n",
            " [0. 0. 0. 0. 0. 0. 0. 0. 0. 0. 0. 0. 0. 0. 0. 0. 0. 0. 0. 0. 0. 0. 0.]\n",
            " [0. 0. 0. 0. 0. 0. 0. 0. 0. 0. 0. 0. 0. 0. 0. 0. 0. 0. 0. 0. 0. 0. 0.]\n",
            " [0. 0. 0. 0. 0. 0. 0. 0. 0. 0. 0. 0. 0. 0. 0. 0. 0. 0. 0. 0. 0. 0. 0.]\n",
            " [0. 0. 0. 0. 0. 0. 0. 0. 0. 0. 0. 0. 0. 0. 0. 0. 0. 0. 0. 0. 0. 0. 0.]\n",
            " [0. 0. 0. 0. 0. 0. 0. 0. 0. 0. 0. 0. 0. 0. 0. 0. 0. 0. 0. 0. 0. 0. 0.]\n",
            " [0. 0. 0. 0. 0. 0. 0. 0. 0. 0. 0. 0. 0. 0. 0. 0. 0. 0. 0. 0. 0. 0. 0.]\n",
            " [0. 0. 0. 0. 0. 0. 0. 0. 0. 0. 0. 0. 0. 0. 0. 0. 0. 0. 0. 0. 0. 0. 0.]\n",
            " [0. 0. 0. 0. 0. 0. 0. 0. 0. 0. 0. 0. 0. 0. 0. 0. 0. 0. 0. 0. 0. 0. 0.]\n",
            " [0. 0. 0. 0. 0. 0. 0. 0. 0. 0. 0. 0. 0. 0. 0. 0. 0. 0. 0. 0. 0. 0. 0.]\n",
            " [0. 0. 0. 0. 0. 0. 0. 0. 0. 0. 0. 0. 0. 0. 0. 0. 0. 0. 0. 0. 0. 0. 0.]\n",
            " [0. 0. 0. 0. 0. 0. 0. 0. 0. 0. 0. 0. 0. 0. 0. 0. 0. 0. 0. 0. 0. 0. 0.]\n",
            " [0. 0. 0. 0. 0. 0. 0. 0. 0. 0. 0. 0. 0. 0. 0. 0. 0. 0. 0. 0. 0. 0. 0.]\n",
            " [0. 0. 0. 0. 0. 0. 0. 0. 0. 0. 0. 0. 0. 0. 0. 0. 0. 0. 0. 0. 0. 0. 0.]\n",
            " [0. 0. 0. 0. 0. 0. 0. 0. 0. 0. 0. 0. 0. 0. 0. 0. 0. 0. 0. 0. 0. 0. 0.]\n",
            " [0. 0. 0. 0. 0. 0. 0. 0. 0. 0. 0. 0. 0. 0. 0. 0. 0. 0. 0. 0. 0. 0. 0.]\n",
            " [0. 0. 0. 0. 0. 0. 0. 0. 0. 0. 0. 0. 0. 0. 0. 0. 0. 0. 0. 0. 0. 0. 0.]\n",
            " [0. 0. 0. 0. 0. 0. 0. 0. 0. 0. 0. 0. 0. 0. 0. 0. 0. 0. 0. 0. 0. 0. 0.]\n",
            " [0. 0. 0. 0. 0. 0. 0. 0. 0. 0. 0. 0. 0. 0. 0. 0. 0. 0. 0. 0. 0. 0. 0.]\n",
            " [0. 0. 0. 0. 0. 0. 0. 0. 0. 0. 0. 0. 0. 0. 0. 0. 0. 0. 0. 0. 0. 0. 0.]\n",
            " [0. 0. 0. 0. 0. 0. 0. 0. 0. 0. 0. 0. 0. 0. 0. 0. 0. 0. 0. 0. 0. 0. 0.]\n",
            " [0. 0. 0. 0. 0. 0. 0. 0. 0. 0. 0. 0. 0. 0. 0. 0. 0. 0. 0. 0. 0. 0. 0.]\n",
            " [0. 0. 0. 0. 0. 0. 0. 0. 0. 0. 0. 0. 0. 0. 0. 0. 0. 0. 0. 0. 0. 0. 0.]]\n",
            "-----------------------------------------\n",
            "[[1. 1. 1. 1. 1. 1.]\n",
            " [1. 1. 1. 1. 1. 1.]\n",
            " [1. 1. 1. 1. 1. 1.]\n",
            " [1. 1. 1. 1. 1. 1.]\n",
            " [1. 1. 1. 1. 1. 1.]]\n",
            "-----------------------------------------\n",
            "[[7 7]\n",
            " [7 7]]\n",
            "-----------------------------------------\n",
            "[[1. 0. 0. 0. 0.]\n",
            " [0. 1. 0. 0. 0.]\n",
            " [0. 0. 1. 0. 0.]\n",
            " [0. 0. 0. 1. 0.]\n",
            " [0. 0. 0. 0. 1.]]\n",
            "-----------------------------------------\n",
            "[[[0.93733376 0.83580751 0.8849012  0.93732677 0.56127737 0.8519089\n",
            "   0.83721708 0.32971326 0.09707804 0.58187231]\n",
            "  [0.64432196 0.30136012 0.70088448 0.60989718 0.3885503  0.11634382\n",
            "   0.74401077 0.54843389 0.51719167 0.13460671]]\n",
            "\n",
            " [[0.30572068 0.99990625 0.85877678 0.88407561 0.827474   0.5493166\n",
            "   0.61564445 0.98907626 0.40141238 0.07255588]\n",
            "  [0.2603175  0.09635111 0.17022574 0.89091377 0.03732068 0.06475978\n",
            "   0.09931785 0.33778573 0.42145824 0.42842816]]\n",
            "\n",
            " [[0.69171789 0.80672511 0.46314424 0.82352711 0.36620169 0.83098326\n",
            "   0.70794492 0.32489567 0.91990391 0.53790861]\n",
            "  [0.37338862 0.54617521 0.56304474 0.44570754 0.72454784 0.33661911\n",
            "   0.9956941  0.43786805 0.7231552  0.85686138]]]\n"
          ],
          "name": "stdout"
        }
      ]
    },
    {
      "cell_type": "code",
      "metadata": {
        "colab": {
          "base_uri": "https://localhost:8080/"
        },
        "id": "B6jQc0JmgjB1",
        "outputId": "e3c9fb1f-2efd-41bb-810c-b3d2970644a8"
      },
      "source": [
        "import numpy as np\r\n",
        "\r\n",
        "# Create the following rank 2 array with shape (3, 4)\r\n",
        "# [[ 1  2  3  4]\r\n",
        "#  [ 5  6  7  8]\r\n",
        "#  [ 9 10 11 12]]\r\n",
        "a = np.array([[1,2,3,4], [5,6,7,8], [9,10,11,12]])\r\n",
        "\r\n",
        "# Use slicing to pull out the subarray consisting of the first 2 rows\r\n",
        "# and columns 1 and 2; b is the following array of shape (2, 2):\r\n",
        "# [[2 3]\r\n",
        "#  [6 7]]\r\n",
        "b = a[:2, 1:3]\r\n",
        "\r\n",
        "# A slice of an array is a view into the same data, so modifying it\r\n",
        "# will modify the original array.\r\n",
        "print(a[0, 1])   # Prints \"2\"\r\n",
        "b[0, 0] = 77     # b[0, 0] is the same piece of data as a[0, 1]\r\n",
        "print(a[0, 1])   # Prints \"77\""
      ],
      "execution_count": 65,
      "outputs": [
        {
          "output_type": "stream",
          "text": [
            "2\n",
            "77\n"
          ],
          "name": "stdout"
        }
      ]
    },
    {
      "cell_type": "code",
      "metadata": {
        "colab": {
          "base_uri": "https://localhost:8080/"
        },
        "id": "DVQzHBxpiK-W",
        "outputId": "5e165899-cdba-42d1-cb0b-05635327c2cf"
      },
      "source": [
        "import numpy as np\r\n",
        "\r\n",
        "# Create the following rank 2 array with shape (3, 4)\r\n",
        "# [[ 1  2  3  4]\r\n",
        "#  [ 5  6  7  8]\r\n",
        "#  [ 9 10 11 12]]\r\n",
        "a = np.array([[1,2,3,4], [5,6,7,8], [9,10,11,12]])\r\n",
        "\r\n",
        "# Two ways of accessing the data in the middle row of the array.\r\n",
        "# Mixing integer indexing with slices yields an array of lower rank,\r\n",
        "# while using only slices yields an array of the same rank as the\r\n",
        "# original array:\r\n",
        "row_r1 = a[1, :]    # Rank 1 view of the second row of a\r\n",
        "row_r2 = a[1:2, :]  # Rank 2 view of the second row of a\r\n",
        "print(row_r1, row_r1.shape)  # Prints \"[5 6 7 8] (4,)\"\r\n",
        "print(row_r2, row_r2.shape)  # Prints \"[[5 6 7 8]] (1, 4)\"\r\n",
        "\r\n",
        "# We can make the same distinction when accessing columns of an array:\r\n",
        "col_r1 = a[:, 1]\r\n",
        "col_r2 = a[:, 1:2]\r\n",
        "print(col_r1, col_r1.shape)  # Prints \"[ 2  6 10] (3,)\"\r\n",
        "print(col_r2, col_r2.shape)  # Prints \"[[ 2]\r\n",
        "                             #          [ 6]\r\n",
        "                             #          [10]] (3, 1)\""
      ],
      "execution_count": 66,
      "outputs": [
        {
          "output_type": "stream",
          "text": [
            "[5 6 7 8] (4,)\n",
            "[[5 6 7 8]] (1, 4)\n",
            "[ 2  6 10] (3,)\n",
            "[[ 2]\n",
            " [ 6]\n",
            " [10]] (3, 1)\n"
          ],
          "name": "stdout"
        }
      ]
    },
    {
      "cell_type": "code",
      "metadata": {
        "colab": {
          "base_uri": "https://localhost:8080/"
        },
        "id": "lIuvc6IQiQjs",
        "outputId": "ef8fc8da-cdbc-43c1-b8c8-994d4c9c7267"
      },
      "source": [
        "# An example of integer array indexing.\r\n",
        "# The returned array will have shape (3,) and\r\n",
        "print(a[[0, 1, 2], [0, 1, 0]])  # Prints \"[1 4 5]\"\r\n",
        "\r\n",
        "# The above example of integer array indexing is equivalent to this:\r\n",
        "print(np.array([a[0, 0], a[1, 1], a[2, 0]]))  # Prints \"[1 4 5]\"\r\n",
        "\r\n",
        "# When using integer array indexing, you can reuse the same\r\n",
        "# element from the source array:\r\n",
        "print(a[[0, 0], [1, 1]])  # Prints \"[2 2]\"\r\n",
        "\r\n",
        "# Equivalent to the previous integer array indexing example\r\n",
        "print(np.array([a[0, 1], a[0, 1]]))  # Prints \"[2 2]\""
      ],
      "execution_count": 67,
      "outputs": [
        {
          "output_type": "stream",
          "text": [
            "[1 6 9]\n",
            "[1 6 9]\n",
            "[2 2]\n",
            "[2 2]\n"
          ],
          "name": "stdout"
        }
      ]
    },
    {
      "cell_type": "code",
      "metadata": {
        "colab": {
          "base_uri": "https://localhost:8080/"
        },
        "id": "czTmBbeckJib",
        "outputId": "88cdc528-af1e-4ab2-9a60-8c0e90ad8cc3"
      },
      "source": [
        "# Create a new array from which we will select elements\r\n",
        "a = np.array([[1,2,3], [4,5,6], [7,8,9], [10, 11, 12]])\r\n",
        "\r\n",
        "print(a)  # prints \"array([[ 1,  2,  3],\r\n",
        "          #                [ 4,  5,  6],\r\n",
        "          #                [ 7,  8,  9],\r\n",
        "          #                [10, 11, 12]])\"\r\n",
        "\r\n",
        "# Create an array of indices\r\n",
        "b = np.array([0, 2, 0, 1])\r\n",
        "\r\n",
        "# Select one element from each row of a using the indices in b\r\n",
        "print(a[np.arange(4), b])  # Prints \"[ 1  6  7 11]\"\r\n",
        "\r\n",
        "# Mutate one element from each row of a using the indices in b\r\n",
        "a[np.arange(4), b] += 10\r\n",
        "\r\n",
        "print(a)  # prints \"array([[11,  2,  3],\r\n",
        "          #                [ 4,  5, 16],\r\n",
        "          #                [17,  8,  9],\r\n",
        "          #                [10, 21, 12]])"
      ],
      "execution_count": 68,
      "outputs": [
        {
          "output_type": "stream",
          "text": [
            "[[ 1  2  3]\n",
            " [ 4  5  6]\n",
            " [ 7  8  9]\n",
            " [10 11 12]]\n",
            "[ 1  6  7 11]\n",
            "[[11  2  3]\n",
            " [ 4  5 16]\n",
            " [17  8  9]\n",
            " [10 21 12]]\n"
          ],
          "name": "stdout"
        }
      ]
    },
    {
      "cell_type": "code",
      "metadata": {
        "colab": {
          "base_uri": "https://localhost:8080/"
        },
        "id": "z4rzORtnkTag",
        "outputId": "ad52c556-68af-4c62-a896-d8f448664499"
      },
      "source": [
        "import numpy as np\r\n",
        "\r\n",
        "a = np.array([[1,2], [3, 4], [5, 6]])\r\n",
        "\r\n",
        "bool_idx = (a > 2)   # Find the elements of a that are bigger than 2;\r\n",
        "                     # this returns a numpy array of Booleans of the same\r\n",
        "                     # shape as a, where each slot of bool_idx tells\r\n",
        "                     # whether that element of a is > 2.\r\n",
        "\r\n",
        "print(bool_idx)      # Prints \"[[False False]\r\n",
        "                     #          [ True  True]\r\n",
        "                     #          [ True  True]]\"\r\n",
        "\r\n",
        "# We use boolean array indexing to construct a rank 1 array\r\n",
        "# consisting of the elements of a corresponding to the True values\r\n",
        "# of bool_idx\r\n",
        "print(a[bool_idx])  # Prints \"[3 4 5 6]\"\r\n",
        "\r\n",
        "# We can do all of the above in a single concise statement:\r\n",
        "print(a[a > 2])     # Prints \"[3 4 5 6]\""
      ],
      "execution_count": 69,
      "outputs": [
        {
          "output_type": "stream",
          "text": [
            "[[False False]\n",
            " [ True  True]\n",
            " [ True  True]]\n",
            "[3 4 5 6]\n",
            "[3 4 5 6]\n"
          ],
          "name": "stdout"
        }
      ]
    },
    {
      "cell_type": "markdown",
      "metadata": {
        "id": "yR4nDul6kZLn"
      },
      "source": [
        "Data types"
      ]
    },
    {
      "cell_type": "code",
      "metadata": {
        "colab": {
          "base_uri": "https://localhost:8080/"
        },
        "id": "KNhB_Sm6kW9B",
        "outputId": "c2308a79-0997-4f04-9e81-b1bfe410c986"
      },
      "source": [
        "import numpy as np\r\n",
        "# common data tyeps uint8 , int8, int32, int64, float32 , float64\r\n",
        "x = np.array([1, 2])   # Let numpy choose the datatype\r\n",
        "print(x.dtype)         # Prints \"int64\"\r\n",
        "\r\n",
        "x = np.array([1.0, 2.0])   # Let numpy choose the datatype\r\n",
        "print(x.dtype)             # Prints \"float64\"\r\n",
        "\r\n",
        "x = np.array([1, 2], dtype=np.uint8)   # Force a particular datatype\r\n",
        "print(x.dtype)       "
      ],
      "execution_count": 72,
      "outputs": [
        {
          "output_type": "stream",
          "text": [
            "int64\n",
            "float64\n",
            "uint8\n"
          ],
          "name": "stdout"
        }
      ]
    },
    {
      "cell_type": "markdown",
      "metadata": {
        "id": "5GD5xbsHlD2P"
      },
      "source": [
        "Maths"
      ]
    },
    {
      "cell_type": "code",
      "metadata": {
        "colab": {
          "base_uri": "https://localhost:8080/"
        },
        "id": "ZaCRxCdxkl6Z",
        "outputId": "7aec5cda-b5e6-4c66-8e8a-a4a1725964da"
      },
      "source": [
        "import numpy as np\r\n",
        "\r\n",
        "x = np.array([[1,2],\r\n",
        "              [3,4]], dtype=np.float64)\r\n",
        "\r\n",
        "y = np.array([[5,6],\r\n",
        "              [7,8]], dtype=np.float64)\r\n",
        "\r\n",
        "# Elementwise sum; both produce the array\r\n",
        "# [[ 6.0  8.0]\r\n",
        "#  [10.0 12.0]]\r\n",
        "print(x + y)\r\n",
        "print(np.add(x, y))\r\n",
        "\r\n",
        "# Elementwise difference; both produce the array\r\n",
        "# [[-4.0 -4.0]\r\n",
        "#  [-4.0 -4.0]]\r\n",
        "print(x - y)\r\n",
        "print(np.subtract(x, y))\r\n",
        "\r\n",
        "# Elementwise product; both produce the array\r\n",
        "# [[ 5.0 12.0]\r\n",
        "#  [21.0 32.0]]\r\n",
        "print(x * y)\r\n",
        "print(np.multiply(x, y))\r\n",
        "\r\n",
        "# Elementwise division; both produce the array\r\n",
        "# [[ 0.2         0.33333333]\r\n",
        "#  [ 0.42857143  0.5       ]]\r\n",
        "print(x / y)\r\n",
        "print(np.divide(x, y))\r\n",
        "\r\n",
        "# Elementwise square root; produces the array\r\n",
        "# [[ 1.          1.41421356]\r\n",
        "#  [ 1.73205081  2.        ]]\r\n",
        "print(np.sqrt(x))"
      ],
      "execution_count": 73,
      "outputs": [
        {
          "output_type": "stream",
          "text": [
            "[[ 6.  8.]\n",
            " [10. 12.]]\n",
            "[[ 6.  8.]\n",
            " [10. 12.]]\n",
            "[[-4. -4.]\n",
            " [-4. -4.]]\n",
            "[[-4. -4.]\n",
            " [-4. -4.]]\n",
            "[[ 5. 12.]\n",
            " [21. 32.]]\n",
            "[[ 5. 12.]\n",
            " [21. 32.]]\n",
            "[[0.2        0.33333333]\n",
            " [0.42857143 0.5       ]]\n",
            "[[0.2        0.33333333]\n",
            " [0.42857143 0.5       ]]\n",
            "[[1.         1.41421356]\n",
            " [1.73205081 2.        ]]\n"
          ],
          "name": "stdout"
        }
      ]
    },
    {
      "cell_type": "code",
      "metadata": {
        "colab": {
          "base_uri": "https://localhost:8080/"
        },
        "id": "j5t2NtX_lFie",
        "outputId": "f82b3f2f-ec94-4951-9b50-523730e39405"
      },
      "source": [
        "import numpy as np\r\n",
        "\r\n",
        "x = np.array([[1,2],[3,4]])\r\n",
        "y = np.array([[5,6],[7,8]])\r\n",
        "\r\n",
        "v = np.array([9,10])\r\n",
        "w = np.array([11, 12])\r\n",
        "\r\n",
        "# Inner product of vectors; both produce 219\r\n",
        "print(v.dot(w))\r\n",
        "print(np.dot(v, w))\r\n",
        "\r\n",
        "# Matrix / vector product; both produce the rank 1 array [29 67]\r\n",
        "print(x.dot(v))\r\n",
        "print(np.dot(x, v))\r\n",
        "\r\n",
        "# Matrix / matrix product; both produce the rank 2 array\r\n",
        "# [[19 22]\r\n",
        "#  [43 50]]\r\n",
        "print(x.dot(y))\r\n",
        "print(np.dot(x, y))"
      ],
      "execution_count": 75,
      "outputs": [
        {
          "output_type": "stream",
          "text": [
            "219\n",
            "219\n",
            "[29 67]\n",
            "[29 67]\n",
            "[[19 22]\n",
            " [43 50]]\n",
            "[[19 22]\n",
            " [43 50]]\n"
          ],
          "name": "stdout"
        }
      ]
    },
    {
      "cell_type": "code",
      "metadata": {
        "colab": {
          "base_uri": "https://localhost:8080/"
        },
        "id": "-TJD2RYHlJ97",
        "outputId": "b26ec1f8-8cdf-4fae-b673-277285abc235"
      },
      "source": [
        "import numpy as np\r\n",
        "\r\n",
        "x = np.array([[1,2],\r\n",
        "              [3,4],\r\n",
        "              [7,8]])\r\n",
        "\r\n",
        "print(np.sum(x))  # Compute sum of all elements; prints \"10\"\r\n",
        "print(np.sum(x, axis=0))  # Compute sum of each column; prints \"[4 6]\"\r\n",
        "print(np.sum(x, axis=1))  # Compute sum of each row; prints \"[3 7]\""
      ],
      "execution_count": 77,
      "outputs": [
        {
          "output_type": "stream",
          "text": [
            "25\n",
            "[11 14]\n",
            "[ 3  7 15]\n"
          ],
          "name": "stdout"
        }
      ]
    },
    {
      "cell_type": "code",
      "metadata": {
        "colab": {
          "base_uri": "https://localhost:8080/"
        },
        "id": "aEKMdq3Rnbra",
        "outputId": "bcf504bb-976d-4044-898d-0525b8327ddf"
      },
      "source": [
        "import numpy as np\r\n",
        "\r\n",
        "x = np.array([[1,2], [3,4]])\r\n",
        "print(x)    # Prints \"[[1 2]\r\n",
        "            #          [3 4]]\"\r\n",
        "print(x.T)  # Prints \"[[1 3]\r\n",
        "            #          [2 4]]\"\r\n",
        "\r\n",
        "# Note that taking the transpose of a rank 1 array does nothing:\r\n",
        "v = np.array([1,2,3])\r\n",
        "print(v)    # Prints \"[1 2 3]\"\r\n",
        "print(v.T)  # Prints \"[1 2 3]\""
      ],
      "execution_count": 78,
      "outputs": [
        {
          "output_type": "stream",
          "text": [
            "[[1 2]\n",
            " [3 4]]\n",
            "[[1 3]\n",
            " [2 4]]\n",
            "[1 2 3]\n",
            "[1 2 3]\n"
          ],
          "name": "stdout"
        }
      ]
    },
    {
      "cell_type": "code",
      "metadata": {
        "colab": {
          "base_uri": "https://localhost:8080/"
        },
        "id": "feDSrdvToOmZ",
        "outputId": "44245cb4-032e-4476-e334-e3d13a98be1b"
      },
      "source": [
        "import numpy as np\r\n",
        "\r\n",
        "# We will add the vector v to each row of the matrix x,\r\n",
        "# storing the result in the matrix y\r\n",
        "x = np.array([[1,2,3], [4,5,6], [7,8,9], [10, 11, 12]])\r\n",
        "v = np.array([1, 0, 1])\r\n",
        "y = np.empty_like(x)   # Create an empty matrix with the same shape as x\r\n",
        "\r\n",
        "# Add the vector v to each row of the matrix x with an explicit loop\r\n",
        "for i in range(4):\r\n",
        "    y[i, :] = x[i, :] + v\r\n",
        "\r\n",
        "# Now y is the following\r\n",
        "# [[ 2  2  4]\r\n",
        "#  [ 5  5  7]\r\n",
        "#  [ 8  8 10]\r\n",
        "#  [11 11 13]]\r\n",
        "print(y)"
      ],
      "execution_count": 79,
      "outputs": [
        {
          "output_type": "stream",
          "text": [
            "[[ 2  2  4]\n",
            " [ 5  5  7]\n",
            " [ 8  8 10]\n",
            " [11 11 13]]\n"
          ],
          "name": "stdout"
        }
      ]
    },
    {
      "cell_type": "code",
      "metadata": {
        "colab": {
          "base_uri": "https://localhost:8080/"
        },
        "id": "2RoQAT3BoSF_",
        "outputId": "b1cbedc1-9e5e-458a-c0ae-7011a12d5e96"
      },
      "source": [
        "import numpy as np\r\n",
        "\r\n",
        "# We will add the vector v to each row of the matrix x,\r\n",
        "# storing the result in the matrix y\r\n",
        "x = np.array([[1,2,3], [4,5,6], [7,8,9], [10, 11, 12]])\r\n",
        "v = np.array([1, 0, 1])\r\n",
        "vv = np.tile(v, (4, 1))   # Stack 4 copies of v on top of each other\r\n",
        "print(vv)                 # Prints \"[[1 0 1]\r\n",
        "                          #          [1 0 1]\r\n",
        "                          #          [1 0 1]\r\n",
        "                          #          [1 0 1]]\"\r\n",
        "y = x + vv  # Add x and vv elementwise\r\n",
        "print(y)  # Prints \"[[ 2  2  4\r\n",
        "          #          [ 5  5  7]\r\n",
        "          #          [ 8  8 10]\r\n",
        "          #          [11 11 13]]\""
      ],
      "execution_count": 80,
      "outputs": [
        {
          "output_type": "stream",
          "text": [
            "[[1 0 1]\n",
            " [1 0 1]\n",
            " [1 0 1]\n",
            " [1 0 1]]\n",
            "[[ 2  2  4]\n",
            " [ 5  5  7]\n",
            " [ 8  8 10]\n",
            " [11 11 13]]\n"
          ],
          "name": "stdout"
        }
      ]
    },
    {
      "cell_type": "code",
      "metadata": {
        "colab": {
          "base_uri": "https://localhost:8080/"
        },
        "id": "hYJ5q0APoVCj",
        "outputId": "de972a3b-f99a-475b-fee7-5d333fecc740"
      },
      "source": [
        "import numpy as np\r\n",
        "\r\n",
        "# We will add the vector v to each row of the matrix x,\r\n",
        "# storing the result in the matrix y\r\n",
        "x = np.array([[1,2,3], [4,5,6], [7,8,9], [10, 11, 12]])\r\n",
        "v = np.array([1, 0, 1])\r\n",
        "y = x + v  # Add v to each row of x using broadcasting\r\n",
        "print(y)  # Prints \"[[ 2  2  4]\r\n",
        "          #          [ 5  5  7]\r\n",
        "          #          [ 8  8 10]\r\n",
        "          #          [11 11 13]]\""
      ],
      "execution_count": 81,
      "outputs": [
        {
          "output_type": "stream",
          "text": [
            "[[ 2  2  4]\n",
            " [ 5  5  7]\n",
            " [ 8  8 10]\n",
            " [11 11 13]]\n"
          ],
          "name": "stdout"
        }
      ]
    },
    {
      "cell_type": "code",
      "metadata": {
        "colab": {
          "base_uri": "https://localhost:8080/"
        },
        "id": "Nk6qIgzWoYPo",
        "outputId": "83ae7bfd-0e97-426a-8fca-0a9d9d5fda34"
      },
      "source": [
        "import numpy as np\r\n",
        "\r\n",
        "# Compute outer product of vectors\r\n",
        "v = np.array([1,2,3])  # v has shape (3,)\r\n",
        "w = np.array([4,5])    # w has shape (2,)\r\n",
        "# To compute an outer product, we first reshape v to be a column\r\n",
        "# vector of shape (3, 1); we can then broadcast it against w to yield\r\n",
        "# an output of shape (3, 2), which is the outer product of v and w:\r\n",
        "# [[ 4  5]\r\n",
        "#  [ 8 10]\r\n",
        "#  [12 15]]\r\n",
        "print(np.reshape(v, (3, 1)) * w)\r\n",
        "\r\n",
        "# Add a vector to each row of a matrix\r\n",
        "x = np.array([[1,2,3], [4,5,6]])\r\n",
        "# x has shape (2, 3) and v has shape (3,) so they broadcast to (2, 3),\r\n",
        "# giving the following matrix:\r\n",
        "# [[2 4 6]\r\n",
        "#  [5 7 9]]\r\n",
        "print(x + v)\r\n",
        "\r\n",
        "# Add a vector to each column of a matrix\r\n",
        "# x has shape (2, 3) and w has shape (2,).\r\n",
        "# If we transpose x then it has shape (3, 2) and can be broadcast\r\n",
        "# against w to yield a result of shape (3, 2); transposing this result\r\n",
        "# yields the final result of shape (2, 3) which is the matrix x with\r\n",
        "# the vector w added to each column. Gives the following matrix:\r\n",
        "# [[ 5  6  7]\r\n",
        "#  [ 9 10 11]]\r\n",
        "print((x.T + w).T)\r\n",
        "# Another solution is to reshape w to be a column vector of shape (2, 1);\r\n",
        "# we can then broadcast it directly against x to produce the same\r\n",
        "# output.\r\n",
        "print(x + np.reshape(w, (2, 1)))\r\n",
        "\r\n",
        "# Multiply a matrix by a constant:\r\n",
        "# x has shape (2, 3). Numpy treats scalars as arrays of shape ();\r\n",
        "# these can be broadcast together to shape (2, 3), producing the\r\n",
        "# following array:\r\n",
        "# [[ 2  4  6]\r\n",
        "#  [ 8 10 12]]\r\n",
        "print(x * 2)"
      ],
      "execution_count": 82,
      "outputs": [
        {
          "output_type": "stream",
          "text": [
            "[[ 4  5]\n",
            " [ 8 10]\n",
            " [12 15]]\n",
            "[[2 4 6]\n",
            " [5 7 9]]\n",
            "[[ 5  6  7]\n",
            " [ 9 10 11]]\n",
            "[[ 5  6  7]\n",
            " [ 9 10 11]]\n",
            "[[ 2  4  6]\n",
            " [ 8 10 12]]\n"
          ],
          "name": "stdout"
        }
      ]
    },
    {
      "cell_type": "code",
      "metadata": {
        "id": "Vhw09RMLobys"
      },
      "source": [
        ""
      ],
      "execution_count": null,
      "outputs": []
    }
  ]
}