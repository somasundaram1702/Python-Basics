{
  "nbformat": 4,
  "nbformat_minor": 0,
  "metadata": {
    "kernelspec": {
      "display_name": "Python 2",
      "language": "python",
      "name": "python2"
    },
    "language_info": {
      "codemirror_mode": {
        "name": "ipython",
        "version": 2
      },
      "file_extension": ".py",
      "mimetype": "text/x-python",
      "name": "python",
      "nbconvert_exporter": "python",
      "pygments_lexer": "ipython2",
      "version": "2.7.10"
    },
    "colab": {
      "name": "Lesson1.ipynb",
      "provenance": []
    }
  },
  "cells": [
    {
      "cell_type": "markdown",
      "metadata": {
        "id": "XcAtgHyz2LP6"
      },
      "source": [
        "#Python-Lectures"
      ]
    },
    {
      "cell_type": "markdown",
      "metadata": {
        "id": "XQXqhnsi2LP7"
      },
      "source": [
        "##Introduction"
      ]
    },
    {
      "cell_type": "markdown",
      "metadata": {
        "id": "JbVbd-fS2LP8"
      },
      "source": [
        "Python is a modern, robust, high level programming language. It is very easy to pick up even if you are completely new to programming."
      ]
    },
    {
      "cell_type": "markdown",
      "metadata": {
        "id": "88PCXVz72LP8"
      },
      "source": [
        "##Installation"
      ]
    },
    {
      "cell_type": "markdown",
      "metadata": {
        "id": "Q2KQJoEJ2LP9"
      },
      "source": [
        "Mac OS X and Linux comes pre installed with python. Windows users can download python from https://www.python.org/downloads/ .\n",
        "\n",
        "To install IPython run,\n",
        "\n",
        "    $ pip install ipython[all]\n",
        "    \n",
        "This will install all the necessary dependencies for the notebook, qtconsole, tests etc."
      ]
    },
    {
      "cell_type": "markdown",
      "metadata": {
        "id": "DUB_sMcb2LP-"
      },
      "source": [
        "###Installation from unofficial distributions"
      ]
    },
    {
      "cell_type": "markdown",
      "metadata": {
        "id": "e6r_kNQH2LP_"
      },
      "source": [
        "Installing all the necessary libraries might prove troublesome. Anaconda and Canopy comes pre packaged with all the necessary python libraries and also IPython."
      ]
    },
    {
      "cell_type": "markdown",
      "metadata": {
        "id": "Lq1fQ4Zl2LP_"
      },
      "source": [
        "####Anaconda"
      ]
    },
    {
      "cell_type": "markdown",
      "metadata": {
        "id": "ez_xRrrG2LQA"
      },
      "source": [
        "Download Anaconda from https://www.continuum.io/downloads\n",
        "\n",
        "Anaconda is completely free and includes more than 300 python packages. Both python 2.7 and 3.4 options are available."
      ]
    },
    {
      "cell_type": "markdown",
      "metadata": {
        "id": "N6XNa1md2LQB"
      },
      "source": [
        "####Canopy"
      ]
    },
    {
      "cell_type": "markdown",
      "metadata": {
        "id": "7B_pFTHo2LQB"
      },
      "source": [
        "Download Canopy from https://store.enthought.com/downloads/#default\n",
        "\n",
        "Canopy has a premium version which offers 300+ python packages. But the free version works just fine. Canopy as of now supports only 2.7 but it comes with its own text editor and IPython environment."
      ]
    },
    {
      "cell_type": "markdown",
      "metadata": {
        "id": "SCLhuxVK2LQC"
      },
      "source": [
        "##Launching IPython Notebook"
      ]
    },
    {
      "cell_type": "markdown",
      "metadata": {
        "id": "F-hbTOC42LQC"
      },
      "source": [
        "From the terminal\n",
        "\n",
        "    ipython notebook\n",
        "\n",
        "In Canopy and Anaconda, Open the respective terminals and execute the above."
      ]
    },
    {
      "cell_type": "markdown",
      "metadata": {
        "id": "EKL_a7eu2LQE"
      },
      "source": [
        "##License"
      ]
    },
    {
      "cell_type": "markdown",
      "metadata": {
        "id": "ps8YHdJE2LQE"
      },
      "source": [
        "This work is licensed under the Creative Commons Attribution 3.0 Unported License. To view a copy of this license, visit http://creativecommons.org/licenses/by/3.0/"
      ]
    }
  ]
}